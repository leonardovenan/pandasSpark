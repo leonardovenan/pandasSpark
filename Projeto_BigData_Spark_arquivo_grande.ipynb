{
  "nbformat": 4,
  "nbformat_minor": 0,
  "metadata": {
    "colab": {
      "provenance": []
    },
    "kernelspec": {
      "name": "python3",
      "display_name": "Python 3"
    },
    "language_info": {
      "name": "python"
    }
  },
  "cells": [
    {
      "cell_type": "code",
      "execution_count": 19,
      "metadata": {
        "id": "qyyFPWdAu3Cj"
      },
      "outputs": [],
      "source": [
        "from pyspark.sql import SparkSession\n",
        "from pyspark.sql.functions import to_date\n",
        "from pyspark.sql.functions import year\n",
        "from pyspark.sql.functions import expr\n",
        "from pyspark.sql.functions import col\n",
        "\n",
        "import matplotlib.pyplot as plt\n",
        "import pandas as pd\n",
        "import time"
      ]
    },
    {
      "cell_type": "code",
      "source": [
        "# Armazenando o tempo de início\n",
        "start_time = time.time()"
      ],
      "metadata": {
        "id": "EpRFrfqlBH7B"
      },
      "execution_count": 20,
      "outputs": []
    },
    {
      "cell_type": "code",
      "source": [
        "# Iniciando uma sessão do Spark\n",
        "spark = SparkSession.builder.appName(\"Temperatura_Media\").getOrCreate()"
      ],
      "metadata": {
        "id": "JBjBucvdvJKa"
      },
      "execution_count": 21,
      "outputs": []
    },
    {
      "cell_type": "code",
      "source": [
        "# Carregando o arquivo CSV como um DataFrame do Spark\n",
        "dados = spark.read.csv(\"GlobalLandTemperaturesByCity.csv\", header=True, sep=\",\")"
      ],
      "metadata": {
        "id": "AVupfGBTvJw-"
      },
      "execution_count": 22,
      "outputs": []
    },
    {
      "cell_type": "code",
      "source": [
        "# Verificando o formato dos dados\n",
        "dados.show(5)"
      ],
      "metadata": {
        "colab": {
          "base_uri": "https://localhost:8080/"
        },
        "id": "qFXKKIz0vTQs",
        "outputId": "96fc938b-4690-4056-aaaa-195caf1486ff"
      },
      "execution_count": 23,
      "outputs": [
        {
          "output_type": "stream",
          "name": "stdout",
          "text": [
            "+----------+------------------+-----------------------------+-----+-------+--------+---------+\n",
            "|        dt|AverageTemperature|AverageTemperatureUncertainty| City|Country|Latitude|Longitude|\n",
            "+----------+------------------+-----------------------------+-----+-------+--------+---------+\n",
            "|1743-11-01|             6.068|           1.7369999999999999|Århus|Denmark|  57.05N|   10.33E|\n",
            "|1743-12-01|              null|                         null|Århus|Denmark|  57.05N|   10.33E|\n",
            "|1744-01-01|              null|                         null|Århus|Denmark|  57.05N|   10.33E|\n",
            "|1744-02-01|              null|                         null|Århus|Denmark|  57.05N|   10.33E|\n",
            "|1744-03-01|              null|                         null|Århus|Denmark|  57.05N|   10.33E|\n",
            "+----------+------------------+-----------------------------+-----+-------+--------+---------+\n",
            "only showing top 5 rows\n",
            "\n"
          ]
        }
      ]
    },
    {
      "cell_type": "code",
      "source": [
        "# Removendo linhas com valores ausentes\n",
        "dados = dados.na.drop()"
      ],
      "metadata": {
        "id": "qPQ7fgGPvT2Z"
      },
      "execution_count": 24,
      "outputs": []
    },
    {
      "cell_type": "code",
      "source": [
        "dados.show(10)"
      ],
      "metadata": {
        "colab": {
          "base_uri": "https://localhost:8080/"
        },
        "id": "-elMLU4yw6ZD",
        "outputId": "3518afc9-00ce-434b-9dd6-9110cc1f34bf"
      },
      "execution_count": 25,
      "outputs": [
        {
          "output_type": "stream",
          "name": "stdout",
          "text": [
            "+----------+-------------------+-----------------------------+-----+-------+--------+---------+\n",
            "|        dt| AverageTemperature|AverageTemperatureUncertainty| City|Country|Latitude|Longitude|\n",
            "+----------+-------------------+-----------------------------+-----+-------+--------+---------+\n",
            "|1743-11-01|              6.068|           1.7369999999999999|Århus|Denmark|  57.05N|   10.33E|\n",
            "|1744-04-01| 5.7879999999999985|           3.6239999999999997|Århus|Denmark|  57.05N|   10.33E|\n",
            "|1744-05-01|             10.644|           1.2830000000000001|Århus|Denmark|  57.05N|   10.33E|\n",
            "|1744-06-01| 14.050999999999998|                        1.347|Århus|Denmark|  57.05N|   10.33E|\n",
            "|1744-07-01|             16.082|                        1.396|Århus|Denmark|  57.05N|   10.33E|\n",
            "|1744-09-01| 12.780999999999999|                        1.454|Århus|Denmark|  57.05N|   10.33E|\n",
            "|1744-10-01|               7.95|                         1.63|Århus|Denmark|  57.05N|   10.33E|\n",
            "|1744-11-01|  4.638999999999999|           1.3019999999999998|Århus|Denmark|  57.05N|   10.33E|\n",
            "|1744-12-01|0.12199999999999987|                        1.756|Århus|Denmark|  57.05N|   10.33E|\n",
            "|1745-01-01|-1.3330000000000002|                        1.642|Århus|Denmark|  57.05N|   10.33E|\n",
            "+----------+-------------------+-----------------------------+-----+-------+--------+---------+\n",
            "only showing top 10 rows\n",
            "\n"
          ]
        }
      ]
    },
    {
      "cell_type": "code",
      "source": [
        "# Convertendo a coluna \"dt\" para dados\n",
        "dados = dados.withColumn(\"dt\", to_date(dados[\"dt\"], \"yyyy-MM-dd\"))"
      ],
      "metadata": {
        "id": "3inA4vqbvXIR"
      },
      "execution_count": 26,
      "outputs": []
    },
    {
      "cell_type": "code",
      "source": [
        "# Passando a coluna AverageTemperature para dados numéricos\n",
        "from pyspark.sql.functions import col\n",
        "\n",
        "try:\n",
        "    dados = dados.withColumn(\"AverageTemperature_numeric\", col(\"AverageTemperature\").cast(\"double\"))\n",
        "except:\n",
        "    print(\"col is not numeric\")\n",
        "\n",
        "dados.show()"
      ],
      "metadata": {
        "colab": {
          "base_uri": "https://localhost:8080/"
        },
        "id": "bSbC7BlZxQqG",
        "outputId": "d558e9a7-afbc-402c-daa9-e13168ec94cd"
      },
      "execution_count": 27,
      "outputs": [
        {
          "output_type": "stream",
          "name": "stdout",
          "text": [
            "+----------+-------------------+-----------------------------+-----+-------+--------+---------+--------------------------+\n",
            "|        dt| AverageTemperature|AverageTemperatureUncertainty| City|Country|Latitude|Longitude|AverageTemperature_numeric|\n",
            "+----------+-------------------+-----------------------------+-----+-------+--------+---------+--------------------------+\n",
            "|1743-11-01|              6.068|           1.7369999999999999|Århus|Denmark|  57.05N|   10.33E|                     6.068|\n",
            "|1744-04-01| 5.7879999999999985|           3.6239999999999997|Århus|Denmark|  57.05N|   10.33E|        5.7879999999999985|\n",
            "|1744-05-01|             10.644|           1.2830000000000001|Århus|Denmark|  57.05N|   10.33E|                    10.644|\n",
            "|1744-06-01| 14.050999999999998|                        1.347|Århus|Denmark|  57.05N|   10.33E|        14.050999999999998|\n",
            "|1744-07-01|             16.082|                        1.396|Århus|Denmark|  57.05N|   10.33E|                    16.082|\n",
            "|1744-09-01| 12.780999999999999|                        1.454|Århus|Denmark|  57.05N|   10.33E|        12.780999999999999|\n",
            "|1744-10-01|               7.95|                         1.63|Århus|Denmark|  57.05N|   10.33E|                      7.95|\n",
            "|1744-11-01|  4.638999999999999|           1.3019999999999998|Århus|Denmark|  57.05N|   10.33E|         4.638999999999999|\n",
            "|1744-12-01|0.12199999999999987|                        1.756|Århus|Denmark|  57.05N|   10.33E|       0.12199999999999987|\n",
            "|1745-01-01|-1.3330000000000002|                        1.642|Århus|Denmark|  57.05N|   10.33E|       -1.3330000000000002|\n",
            "|1745-02-01|             -2.732|                        1.358|Århus|Denmark|  57.05N|   10.33E|                    -2.732|\n",
            "|1745-03-01|              0.129|                        1.088|Århus|Denmark|  57.05N|   10.33E|                     0.129|\n",
            "|1745-04-01|              4.042|                        1.138|Århus|Denmark|  57.05N|   10.33E|                     4.042|\n",
            "|1750-01-01|              1.699|                        1.013|Århus|Denmark|  57.05N|   10.33E|                     1.699|\n",
            "|1750-02-01| 3.9610000000000003|           2.3609999999999998|Århus|Denmark|  57.05N|   10.33E|        3.9610000000000003|\n",
            "|1750-03-01|              5.182|                         3.48|Århus|Denmark|  57.05N|   10.33E|                     5.182|\n",
            "|1750-04-01|              7.197|                        0.732|Århus|Denmark|  57.05N|   10.33E|                     7.197|\n",
            "|1750-05-01|             10.634|                        1.351|Århus|Denmark|  57.05N|   10.33E|                    10.634|\n",
            "|1750-06-01|             14.913|                        1.181|Århus|Denmark|  57.05N|   10.33E|                    14.913|\n",
            "|1750-07-01|             17.831|                         1.22|Århus|Denmark|  57.05N|   10.33E|                    17.831|\n",
            "+----------+-------------------+-----------------------------+-----+-------+--------+---------+--------------------------+\n",
            "only showing top 20 rows\n",
            "\n"
          ]
        }
      ]
    },
    {
      "cell_type": "code",
      "source": [
        "# Extraindo o ano da coluna \"dt\"\n",
        "dados = dados.withColumn(\"year\", year(dados[\"dt\"]))"
      ],
      "metadata": {
        "id": "fkuGOIbtvaHS"
      },
      "execution_count": 28,
      "outputs": []
    },
    {
      "cell_type": "code",
      "source": [
        "# Agrupando as temperaturas por ano e cidade\n",
        "dados_agrupados = dados.groupBy([\"year\", \"City\"]).mean(\"AverageTemperature_numeric\")\n",
        "dados_agrupados.show(5)"
      ],
      "metadata": {
        "colab": {
          "base_uri": "https://localhost:8080/"
        },
        "id": "hMQkS2Ivvdux",
        "outputId": "612ed225-8ae0-4899-ff45-e801c0bbccff"
      },
      "execution_count": 29,
      "outputs": [
        {
          "output_type": "stream",
          "name": "stdout",
          "text": [
            "+----+-------+-------------------------------+\n",
            "|year|   City|avg(AverageTemperature_numeric)|\n",
            "+----+-------+-------------------------------+\n",
            "|1767|  Århus|              6.946416666666668|\n",
            "|1781|  Århus|              8.528916666666667|\n",
            "|1766|  Çorlu|                       13.39575|\n",
            "|1868|  Çorlu|                        13.0665|\n",
            "|1938|Öskemen|             1.3139999999999992|\n",
            "+----+-------+-------------------------------+\n",
            "only showing top 5 rows\n",
            "\n"
          ]
        }
      ]
    },
    {
      "cell_type": "code",
      "source": [
        "# Obtendo as cidades únicas\n",
        "cidades = dados.select(\"City\").distinct().rdd.flatMap(lambda x: x).collect()\n",
        "print(cidades)\n"
      ],
      "metadata": {
        "colab": {
          "base_uri": "https://localhost:8080/"
        },
        "id": "bHxxm_umvlkR",
        "outputId": "3b4df3ce-bfff-483c-846b-7937e695a124"
      },
      "execution_count": null,
      "outputs": [
        {
          "output_type": "stream",
          "name": "stdout",
          "text": [
            "['Antwerp', 'Araruama', 'Bangalore', 'Benxi', 'Cajamarca', 'Cicalengka', 'Copiapo', 'Da Nang', 'Dos Hermanas', 'Bryansk', 'Charleston', 'Chikmagalur', 'Chisinau', 'Corona', 'Abuja', 'Acapulco', 'Arequipa', 'Asahikawa', 'Badajoz', 'Bahawalnagar', 'Barbacena', 'Bojnurd', 'Brasov', 'Bukit Mertajam', 'Cà Mau', 'Cairo', 'Casablanca', 'Dimapur', 'Americana', 'Bhind', 'Bohicon', 'Cúa', 'Chavakachcheri', 'Cileunyi', 'Agadir', 'Ashikaga', 'Aurangabad', 'Bauchi', 'Brunswick', 'Cairns', 'Colatina', 'Ciego De Ávila', 'Bissau', 'Brighton', 'Belgorod', 'Bhubaneswar', 'Chenghai', 'Coral Springs', 'Alcorcón', 'Bolton', 'Århus', 'Anchorage', 'Araras', 'Bayamo', 'Birganj', 'Allentown', 'Asfi', 'Dourados', 'Edirne', 'Abohar', 'Anaheim', 'Cachoeirinha', 'Canberra', 'Chuncheng', 'Curitiba', 'Amersfoort', 'Carapicuíba', 'Coquimbo', 'Cumaná', 'Chattanooga', 'Edinburgh', 'Ajmer', 'Algeciras', 'Campo Grande', 'Concordia', 'Dallas', 'Adana', 'Batman', 'Dalian', 'Angeles', 'Bharuch', 'Bradford', 'Braga', 'Brakpan', 'Adelaide', 'Akashi', 'Benghazi', 'Dagupan', 'Durrës', 'Akola', 'Amravati', 'Barra Mansa', 'Chiang Mai', 'Chittaurgarh', 'Daska', 'Dongtai', 'Abha', 'Agartala', 'Almaty', 'Ancona', 'Chalco', 'Cuenca', 'Dijon', 'Edison', 'Batangas', 'Benguela', 'Changji', 'Aksaray', 'Bern', 'Brahmapur', 'Bakersfield', 'Bhuj', 'Bila Tserkva', 'Chita', 'Darbhanga', 'Digos', 'Alexandria', 'Baruta', 'Burgos', 'Christchurch', 'Chula Vista', 'Coventry', 'Durg', 'Bene Beraq', 'Citeureup', 'Eastbourne', 'Araraquara', 'Charallave', 'Dawukou', 'Dayton', 'Durango', 'Arak', 'Auckland', 'Baghdad', 'Barrancabermeja', 'Bata', 'Cabimas', 'Cileungsi', 'Cisaat', 'Belford Roxo', 'Chizhou', 'Comodoro Rivadavia', 'Angers', 'Binjai', 'Bitung', 'Bucaramanga', 'Cambridge', 'Chiclayo', 'Clermont Ferrand', 'Alandur', 'Cheltenham', 'Conselheiro Lafaiete', 'Diourbel', 'Arapiraca', 'Belgrade', 'Bologna', 'Cotia', 'Ananindeua', 'Betim', 'Bhagalpur', 'Botosani', 'Chofu', 'Cusco', 'Badlapur', 'Baleshwar', 'Belfast', 'Bhavnagar', 'Chandler', 'Caracas', 'Carmen', 'Chemnitz', 'Denpasar', 'Adoni', 'Antakya', 'Bello', 'Blackburn', 'Cardiff', 'Bayrut', 'Bochum', 'Dharan', 'Ahmadnagar', 'Boksburg', 'Clarksville', 'Çorum', 'Acheng', 'Didao', 'Ede', 'Camagüey', 'Canoas', 'Caxias Do Sul', 'Darmstadt', 'Dublin', 'Akure', 'Banjaran', 'Bellary', 'Cibadak', 'Cleveland', 'Colombo', 'Dar Es Salaam', 'Dibrugarh', 'Duma', 'Dundee', 'Berlin', 'Ciamis', 'Acuña', 'Brugge', 'Chengdu', 'Dos Quebradas', 'Ankara', 'Araucária', 'Bamako', 'Bandar E Anzali', 'Bilbao', 'Chesapeake', 'Dasoguz', 'Dudley', 'Acarigua', 'Aracaju', 'Burewala', 'Cancún', 'Chenzhou', 'Dabrowa Gornicza', 'Dera Ghazi Khan', 'Detroit', 'Ara', 'Bama', 'Belawan', 'Delmas', 'Dharmavaram', 'Aqtöbe', 'Bisho', 'Bridgeport', 'Chosica', 'Danshui', 'Dire Dawa', 'Dongling', 'Dodoma', 'Cotabato', 'Aurora', 'Azare', 'Baturaja', 'Cagua', 'Dali', 'Addis Abeba', 'Baton Rouge', 'Cap Haïtien', 'Carrefour', 'Ashdod', 'Campos', 'Chingola', 'Ciudad Valles', 'Cotonou', 'Ageo', 'Bergamo', 'Bhatpara', 'Chihuahua', 'Brisbane', 'Abeokuta', 'Baneh', 'Birmingham', 'Chimalhuacán', 'Aizawl', 'Bengbu', 'Burbank', 'Chandpur', 'Chengde', 'Dresden', 'Aligarh', 'Bandar Maharani', 'Bragança Paulista', 'Carolina', 'Cebu', 'Daugavpils', 'Dehui', 'Antananarivo', 'Baharampur', 'Bamenda', 'Banyuwangi', 'Boa Vista', 'Derby', 'Duque De Caxias', 'Derbent', 'Drobeta Turnu Severin', 'Abengourou', 'Anshan', 'Arusha', 'Banda', 'Charleroi', 'Düsseldorf', 'Arad', 'Baia Mare', 'Bidar', 'Columbus', 'Durban', 'Bucharest', 'Buenaventura', 'Ambarnath', 'Antioch', 'Brebes', 'Bukan', 'Dezhou', 'Ann Arbor', 'Ayer Itam', 'Caen', 'Aswan', 'Bansbaria', 'Bauru', 'Cam Pha', 'Ciomas', 'Austin', 'Benoni', 'Crawley', 'Ebina', 'Ankang', 'Bielefeld', 'Dhanbad', 'Belgaum', 'Burhanpur', 'Cape Town', 'Cottbus', 'Cam Ranh', 'Chapecó', 'Chincha Alta', 'Churu', 'Cuernavaca', 'Anjo', 'Banjarmasin', 'Cirebon', 'Beihai', 'Catania', 'Damoh', 'Achalpur', 'Beira', 'Cape Coast', 'Akita', 'Allahabad', 'Bijapur', 'Bogor', 'Brazzaville', 'Anqing', 'Bournemouth', 'Bafoussam', 'Bareli', 'Cork', 'Cubatão', 'Baku', 'Beppu', 'Chishtian Mandi', 'Criciúma', 'Dezful', 'Breda', 'Chongqing', 'Buga', 'Chicago', 'Alagoinhas', 'Ashqelon', 'Athens', 'Burgas', 'Abakan', 'Amagasaki', 'Bielsko Biala', 'Bontang', 'Daito', 'Bettiah', 'Bhiwani', 'Boshan', 'Curug', 'Darjiling', 'Araçatuba', 'Calamba', 'Colima', 'Amritsar', 'Binzhou', 'Bremen', 'Arvada', 'Chimoio', 'Concepcion', 'Chon Buri', 'Culiacán', 'Depok', 'Duisburg', 'Anand', 'Arnhem', 'Cianjur', 'Atsugi', 'Cabudare', 'Campinas', 'Dumai', 'Apopa', 'Bhilai', 'Campeche', 'Dehri', 'Antalya', 'Birjand', 'Cedar Rapids', 'Changde', 'Chhapra', 'Ciampea', 'Dunhua', 'Abadan', 'Anqiu', 'Barcelona', 'Bekasi', 'Belo Horizonte', 'Bugama', 'Celaya', 'Davao', 'Bénin', 'Calabar', 'Asmara', 'Bhiwandi', 'Calama', 'Chitungwiza', 'Coronel Fabriciano', 'Bally', 'Cikampek', 'Ahmadpur East', 'Balashikha', 'Belém', 'Bid', 'Can Tho', 'Corpus Christi', 'Abidjan', 'Bagaha', 'Bahir Dar', 'Barrie', 'Bhimavaram', 'Datong', 'Dumaguete', 'Akron', 'Amadora', 'Amarillo', 'Bydgoszcz', 'Anantapur', 'Bandundu', 'Aix En Provence', 'Antsirabe', 'Chorzow', 'Ebetsu', 'Akishima', 'Baoshan', 'Beawar', 'Carrollton', 'Caruaru', 'Chandrapur', 'Chelyabinsk', 'Da Lat', 'Albacete', 'Amsterdam', 'Antipolo', 'Bergen', 'Blantyre', 'Chilpancingo', 'Debrecen', 'Dordrecht', 'Agboville', 'Caxias', 'Bottrop', 'Brussels', 'Cavite', 'Cochabamba', 'Aberdeen', 'Algiers', 'Awassa', 'Barnala', 'Birigui', 'Biysk', 'Corrientes', 'Edmonton', 'Arjawinangun', 'Cluj Napoca', 'Colchester', 'Divinópolis', 'Aba', 'Atlanta', 'Bahadurgarh', 'Capiatá', 'Arlington', 'Babol', 'Butuan', 'Cainta', 'Chernivtsi', 'Damaturu', 'Aden', 'Baiyin', 'Beirut', 'Djougou', 'Dongli', 'Ambala', 'Abiko', 'Bordeaux', 'Braila', 'Dindigul', 'Chiniot', 'Anshun', 'Arica', 'Astanajapura', 'Dese', 'Abakaliki', 'Albury', 'Chelmsford', 'Dhaulpur', 'Asaka', 'Balakovo', 'Almere', 'Apodaca', 'Berbera', 'Butterworth', 'Cagliari', 'Chhindwara', 'Bida', 'Dewas', 'Agra', 'Anda', 'Barasat', 'Barddhaman', 'Chetumal', 'Aachen', 'Anápolis', 'Barueri', 'Beni Suef', 'Cali', 'Alanya', 'Bristol', 'Ambon', 'Cheboksary', 'Cuautitlán Izcalli', 'Besançon', 'Campina Grande', 'Ciudad Guayana', 'Cuddapah', 'Alberton', 'Anyama', 'Banda Aceh', 'Bouaké', 'Bulawayo', 'Córdoba', 'Bago', 'Beipiao', 'Choloma', 'Dakar', 'Botshabelo', 'Bulaon', 'Arkhangelsk', 'Banja Luka', 'Catia La Mar', 'Chupei', 'Dingzhou', 'Achinsk', 'Aguascalientes', 'Ambato', 'Angarsk', 'Baripada', 'Bursa', 'Cherkessk', 'Cilegon', 'Damascus', 'Avadi', 'Ciudad Bolívar', 'Conakry', 'Do Rud', 'Armenia', 'Asunción', 'Awka', 'Bangaon', 'Costa Mesa', 'Delhi', 'Durgapur', 'Apucarana', 'Caucaia', 'Cherepovets', 'Aksu', 'Bengkulu', 'Bhadravati', 'Chuzhou', 'Dahuk', 'Dunedin', 'Ecatepec', 'Öskemen', 'Abbotsford', 'Aryanah', 'Chandausi', 'Cuautla', 'Atibaia', 'Bhairab Bazar', 'Donghai', 'Calgary', 'Copenhagen', 'Dawei', 'Deoria', 'Boma', 'Cangzhou', 'Changchun', 'Chungho', 'Divo', 'Chandigarh', 'Chigasaki', 'Bokaro', 'Asansol', 'Bankura', 'Bilaspur', 'Cascavel', 'Dekernes', 'Dinajpur', 'Bantou', 'Bari', 'Berkeley', 'Dzerzhinsk', 'East Los Angeles', 'Almería', 'Bacolod', 'Bandar Penggaram', 'Barquisimeto', 'Cabanatuan', 'Cherkasy', 'Daxian', 'Denizli', 'Durham', 'Anyang', 'Biên Hòa', 'Binangonan', 'Abu Dhabi', 'Anaco', 'Balti', 'Bhopal', 'Brikama', 'Budaun', 'Andijon', 'Bushehr', 'Ajdabiya', 'Aleppo', 'Beian', 'Cienfuegos', 'Balikpapan', 'Batala', 'Benha', 'Blitar', 'Bloemfontein', 'Blumenau', 'Bombay', 'Bratislava', 'Diadema', 'Colorado Springs', 'Bataysk', 'Ambattur', 'Cabo Frio', 'Cariacica', 'Dasmariñas', 'Dongying', 'Blagoveshchensk', 'Coimbra', 'Cracow', 'Beibei', 'Bialystok', 'Boulogne Billancourt', 'Coro', 'Czestochowa', 'Astana', 'Bahia Blanca', 'Baoji', 'Barakpur', 'Beaumont', 'Botad', 'Camaçari', 'Constanta', 'Bulandshahr', 'Daliang', 'Debre Zeyit', 'Doha', 'Atyrau', 'Barreiras', 'Ciputat', 'Buhe', 'Coatzacoalcos', 'Accra', 'Angren', 'Bahawalpur', 'Bergisch Gladbach', 'Cape Coral', 'Cibitung', 'Calcutta', 'Carúpano', 'Dum Dum', 'Baliuag', 'Brasília', 'Chernihiv', 'Ciparay', 'Baglan', 'Basirhat', 'Bellevue', 'Astrakhan', 'Ballia', 'Bandung', 'Denton', 'Dhule', 'Dimitrovgrad', 'Çorlu', 'Antofagasta', 'Barisal', 'Bikaner', 'Brest', 'Catamarca', 'Changzhou', 'Chinandega', 'Ardabil', 'Camaragibe', 'Dadiangas', 'Des Moines', 'Bujumbura', 'Chakwal', 'Bac Lieu', 'Bhilwara', 'Anbu', 'Babakan', 'Bethal', 'Adiwerna', 'Angra Dos Reis', 'Bangkok', 'Barsi', 'Chaoyang', 'Augsburg', 'Basildon', 'Buraydah', 'Craiova', 'Basel', 'Cikupa', 'Araguaína', 'Bhusawal', 'Bonn', 'Brownsville', 'Buffalo', 'Cúcuta', 'Cikarang', 'Contagem', 'Curico', 'Dubai', 'Baranagar', 'Bharatpur', 'Cachoeiro De Itapemirim', 'Cartago', 'Alor Setar', 'Armavir', 'Bacoor', 'Chimbote', 'Cuiabá', 'Dehra Dun', 'Badaojiang', 'Botucatu', 'Bozhou', 'Albuquerque', 'Alwar', 'Barretos', 'Cimahi', 'Cincinnati', 'Cisarua', 'Ürümqi', 'Aktau', 'Chaozhou', 'A Coruña', 'Alcalá De Henares', 'Butembo', 'Clearwater', 'Dushanbe', 'Arzamas', 'Baguio', 'Daloa', 'Abomey Calavi', 'Alappuzha', 'Abilene', 'Amol', 'Basti', 'Budapest', 'Catanduva', 'East London', 'Baicheng', 'Chhatarpur', 'Coacalco', 'Ayacucho', 'Baltimore', 'Bihar', 'Buzau', 'Edéa', 'Bremerhaven', 'Columbia', 'Ahmadabad', 'Borujerd', 'Buon Me Thuot', 'Cadiz', 'Cary', 'Amaigbo', 'Ambur', 'Apeldoorn', 'Baidyabati', 'Berezniki', 'Blackpool', 'Chifeng', 'Biratnagar', 'Birnin Kebbi', 'Concord', 'Dandong', 'Altay', 'Amroha', 'Badalona', 'Bahraich', 'Balurghat', 'Bat Yam', 'Cordoba', 'Adilabad', 'Afyonkarahisar', 'Baoding', 'Bertoua', 'Chitradurga', 'Almetyevsk', 'Brno', 'Deyang', 'Charlotte', 'Chas', 'Chillan', 'Cologne', 'Ahvaz', 'Barinas', 'Bhadreswar', 'Cagayan De Oro', 'Daan', 'Dera Ismail Khan', 'Azamgarh', 'Bangui', 'Bintulu', 'Chandannagar', 'Dadu', 'Dortmund', 'Amiens', 'Barnaul', 'Aalborg', 'Bacau', 'Cartagena', 'Downey', 'Alcobendas', 'Asyut', 'Barranquilla', 'Castanhal', 'Champdani', 'Cibinong', 'Constantine', 'Denver', 'Dhaka', 'Douala', 'Boston', 'Bratsk', 'Brits', 'Calabozo', 'Bogotá', 'Bukavu', 'Bytom', 'Asgabat', 'Begusarai', 'Brescia', 'Akyab', 'Bobo Dioulasso', 'Chaohu', 'Delicias', 'Fengshan', 'Girardot', 'Hanover', 'Horlivka', 'Jaboatão', 'Kisangani', 'Gazni', 'Ilam', 'Kaifeng', 'Kiryu', 'Kluang', 'Linfen', 'Linxia', 'Linz', 'Francisco Morato', 'Jiupu', 'Khandwa', 'Esfahan', 'Georgetown', 'Ila', 'Kalemie', 'Kochi', 'Faridabad', 'Gaborone', 'Hollywood', 'Jiaohe', 'Jining', 'Komsomolsk Na Amure', 'Kostroma', 'Fujimi', 'Girón', 'Gombe', 'Guangzhou', 'Hosur', 'Ikole', 'Forlì', 'Fortaleza', 'Ho Chi Minh City', 'Kawaguchi', 'Kelowna', 'Guantánamo', 'Kryvyy Rih', 'Lima', 'El Limón', 'Hachinohe', 'Hadano', 'Isparta', 'Jhunjhunun', 'Kursk', 'Hargeysa', 'Kasukabe', 'Fort Collins', 'Garoua', 'Gusau', 'Hanzhong', 'Koronadal', 'Fujinomiya', 'Göteborg', 'Jieshou', 'Kaunas', 'Fuyu', 'Greensboro', 'Guilin', 'Hafizabad', 'Kediri', 'Khlong Luang', 'Kielce', 'Fuchu', 'Hachioji', 'Kaluga', 'Kasuga', 'Irbil', 'Jhang', 'Juba', 'Kwekwe', 'Gorzow Wielkopolski', 'Hegang', 'Iasi', 'Kamoke', 'Loni', 'Khujand', 'La Romana', 'Lampang', 'Laredo', 'Huánuco', 'Jakarta', 'Elblag', 'Enugu', 'Fontana', 'Frankfurt', 'Gagnoa', 'Jammu', 'Jinan', 'Keelung', 'Libreville', 'Envigado', 'Lipetsk', 'Ibagué', 'Jibuti', 'Grenoble', 'Gulbarga', 'Hailar', 'Heilbronn', 'Jiaxing', 'Kamarhati', 'Funabashi', 'Huancayo', 'Ilhéus', 'Kashan', 'Lübeck', 'Lisbon', 'Hubli', 'Korba', 'Jaranwala', 'Kandi', 'Gonda', 'Hagen', 'Jodhpur', 'Kuito', 'Fayetteville', 'Fullerton', 'Gbongan', 'Gera', 'Hampton', 'Haora', 'Higüey', 'Fianarantsoa', 'Glasgow', 'Haldia', 'Ichalkaranji', 'Escondido', 'Fuxin', 'Gweru', 'Hat Yai', 'Hindupur', 'Jhansi', 'Jujuy', 'Erfurt', 'Etah', 'Fairfield', 'Humen', 'Jundiaí', 'Kragujevac', 'Joetsu', 'Lafiagi', 'Lille', 'Gardez', 'Grand Rapids', 'Esenyurt', 'Gondal', 'Holguín', 'Kurgan', 'Iquique', 'Harare', 'Kashi', 'Lichinga', 'Fuzhou', 'Guarujá', 'Le Havre', 'Leganés', 'Guarulhos', 'Indianapolis', 'Khanpur', 'Kobe', 'Guadalupe', 'Ixtapaluca', 'Kindia', 'Kislovodsk', 'Jinchang', 'Koidu', 'Engels', 'Jiangyin', 'Kamensk Uralskiy', 'Laoag', 'Ferraz De Vasconcelos', 'Flint', 'Funtua', 'Kuala Lumpur', 'Kurashiki', 'Fuji', 'Hisar', 'Jalingo', 'Kawasaki', 'Kohat', 'Kota Bahru', 'Krasnodar', 'Fushun', 'Huicheng', 'Jalandhar', 'Khoy', 'Kuwana', 'Linqing', 'Embu', 'Farrukhabad', 'General Escobedo', 'Hirakata', 'Kashihara', 'Kousséri', 'Huaibei', 'Jieshi', 'El Faiyûm', 'Elista', 'Jamshedpur', 'Karachi', 'Kollam', 'Lárisa', 'Long Xuyên', 'Indaiatuba', 'Kolhapur', 'Lakhimpur', 'Florence', 'Kitakyushu', 'Kuytun', 'Lapu Lapu', 'Guarenas', 'Ikire', 'Kot Addu', 'Kresek', 'Lagos', 'Latina', 'London', 'Haifa', 'João Pessoa', 'Koriyama', 'Hanumangarh', 'Himeji', 'Hospet', 'Itaguaí', 'Kanchipuram', 'Garut', 'Longjing', 'Hino', 'Kaiyuan', 'Likasi', 'Gashua', 'Green Bay', 'Etawah', 'Garden Grove', 'Jerusalem', 'Juiz De Fora', 'Kassala', 'Kecskemét', 'Houma', 'Jember', 'Jerez', 'Khartoum', 'Exeter', 'Graz', 'Harbin', 'Jiddah', 'La Serena', 'Independence', 'Iruma', 'Kahramanmaras', 'Gliwice', 'Guangshui', 'Honggang', 'Irvine', 'Jaffna', 'Kamakura', 'Leicester', 'Eslamshahr', 'Fujisawa', 'Kindu', 'Kedungwuni', 'Kerman', 'Kishi', 'Kupang', 'Firozpur', 'Hong Gai', 'Isiro', 'Kuala Terengganu', 'Kurume', 'Evansville', 'Guarapari', 'Hardoi', 'Hortolândia', 'Khon Kaen', 'Logroño', 'Firozabad', 'Gebze', 'Hai Phong', 'Hayward', 'Hazaribag', 'Ilesha', 'Kingston', 'Leverkusen', 'Enschede', 'Fernando De La Mora', 'Huntington Beach', 'Ikere', 'Kapra', 'Kisumu', 'Ekibastuz', 'Gangapur', 'Hiratsuka', 'Heihe', 'Huangyan', 'Karawang', 'Khuzdar', 'Kremenchuk', 'Kuantan', 'Goiânia', 'Juliaca', 'Kabwe', 'Kodaira', 'Kolpino', 'Korla', 'Foggia', 'Gijón', 'Kalol', 'Khardaha', 'El Paso', 'Erlangen', 'Foshan', 'Gazipur', 'Huangzhou', 'Joinville', 'Konya', 'Lausanne', 'Ijero', 'Ikorodu', 'Jabalpur', 'Kirovohrad', 'Freiburg', 'Fujieda', 'Gyumri', 'Liaoyang', 'Gillingham', 'Hobart', 'Kenitra', 'Khanna', 'Garland', 'Gilbert', 'Krugersdorp', 'Limeira', 'Itabuna', 'Jilin', 'Jolo', 'Leshan', 'Habikino', 'Ichinomiya', 'Jalna', 'Kamalia', 'Kayseri', 'Kazan', 'Espoo', 'Ibadan', 'Kano', 'Kroonstad', 'Lansing', 'Longjiang', 'Hoshangabad', 'Kismayo', 'Geelong', 'Guayaquil', 'Hamburg', 'Hermosillo', 'Huzhou', 'Iloilo', 'Kerch', 'Gorakhpur', 'Guanare', 'Iguala', 'Imabari', 'Gomel', 'Handan', 'Ibaraki', 'Ismailia', 'Loja', 'Genoa', 'Glendale', 'Iskenderun', 'Ljubljana', 'Glazov', 'Haicheng', 'Kemang', 'Klerksdorp', 'Kota', 'Kotte', 'Fort Lauderdale', 'Ipatinga', 'Kalisz', 'Kherson', 'López Mateos', 'Lalitpur', 'Florencia', 'Franca', 'Ibirité', 'Ica', 'Indramayu', 'Jiangmen', 'Kebumen', 'Kendari', 'Fukuyama', 'Ikot Ekpene', 'Inglewood', 'Jagadhri', 'Gwalior', 'Istanbul', 'Jishu', 'Lakewood', 'Ejido', 'Jamalpur', 'Kassel', 'Granada', 'Halle', 'Highlands Ranch', 'Jingdezhen', 'Lahad Datu', 'Limoges', 'Hsichih', 'Lambaré', 'Lobito', 'Gent', 'Honghu', 'Irving', 'Jalalabad', 'Katihar', 'Kumbakonam', 'Lancaster', 'Linhares', 'Erzincan', 'Gold Coast', 'Hrodna', 'Jambi', 'Kitwe', 'Kathmandu', 'Katumba', 'Gboko', 'Governador Valadares', 'Guadalajara', 'Jiaojiang', 'Kaithal', 'Khairpur', 'Gravataí', 'Kumanovo', 'Florianópolis', 'Gojra', 'Haarlemmermeer', 'Itarsi', 'Jiaozuo', 'Guiyang', 'Katsina', 'Khimki', 'Koshigaya', 'Krefeld', 'Lemesos', 'Lianran', 'Hulan', 'Jandira', 'Lahore', 'Leiden', 'Gyor', 'Haridwar', 'Iráklion', 'Klaipeda', 'Fresnillo', 'Inisa', 'Lincoln', 'Faridpur', 'Gandhidham', 'Grand Prairie', 'Guarapuava', 'Ibarra', 'Jinxi', 'Kabul', 'El Mahalla El Kubra', 'Ghazipur', 'Hajipur', 'Kalyan', 'Godhra', 'Gonbad E Qabus', 'Guna', 'Jamuria', 'Komaki', 'Goma', 'Ichikawa', 'Irbid', 'Izmit', 'Khomeynishahr', 'Komatsu', 'Laiwu', 'Longfeng', 'Garza García', 'Lafayette', 'Idlib', 'Eluru', 'Guntakal', 'Hefei', 'Hirosaki', 'Fresno', 'Jackson', 'Jaramana', 'Floridablanca', 'Kashipur', 'Las Vegas', 'Lira', 'Kakamigahara', 'Kampala', 'Gaozhou', 'Jiujiang', 'Kigali', 'Leiyang', 'Gandhinagar', 'Gurgaon', 'Hengshan', 'Jahrom', 'Kuhdasht', 'Little Rock', 'Giugliano In Campania', 'Iida', 'Kawagoe', 'Khushab', 'Ife', 'Liège', 'Ejigbo', 'El Progreso', 'Hagonoy', 'Ikirun', 'Khanewal', 'Linhai', 'Izumi', 'Kasur', 'Kumba', 'Faisalabad', 'Imphal', 'Jos', 'Karaj', 'Linchuan', 'Ingolstadt', 'Jinzhou', 'Hangzhou', 'Hsinchu', 'Jersey City', 'Hadejia', 'Haibowan', 'Hsintien', 'Jetpur', 'Karang Tengah', 'Korhogo', 'Long Beach', 'Formosa', 'Gainesville', 'Guangyuan', 'Guatemala', 'Ichihara', 'Ilawe', 'Gejiu', 'Kakogawa', 'Kandy', 'Loa Janan', 'Juàzeiro', 'Karlsruhe', 'Kosice', 'La Plata', 'Lages', 'Longyan', 'Eldoret', 'Guatire', 'Jamame', 'Jhelum', 'Liaocheng', 'Haimen', 'Iwo', 'Jaú', 'Kallithéa', 'Kalmunai', 'Khurja', 'Kumagaya', 'Laohekou', 'Fengcheng', 'Itaquaquecetuba', 'Johannesburg', 'Kimberley', 'Kingston Upon Hull', 'Koblenz', 'Gómez Palacio', 'Galati', 'Gemena', 'Juazeiro Do Norte', 'Khorramshahr', 'Kyzyl', 'Lengshuijiang', 'Guntur', 'Henzada', 'Hulan Ergi', 'Isehara', 'Jacobabad', 'Karaman', 'Faizabad', 'Ikoma', 'Jiaozhou', 'Kariya', 'Hòa Bình', 'Londrina', 'Itajaí', 'Kitami', 'Kulti', 'Guatemala City', 'Heidelberg', 'Helsinki', 'Ibb', 'Ishinomaki', 'Itapecerica Da Serra', 'Krasnoyarsk', 'Legaspi', 'Lembang', 'Franco Da Rocha', 'Gloucester', 'Gongzhuling', 'Hengyang', 'Iranshahr', 'Hofu', 'Hoshiarpur', 'Hue', 'Huntsville', 'Iringa', 'Freetown', 'Hakodate', 'Herne', 'Huizhou', 'Jinchengjiang', 'Jiutepec', 'Kansas City', 'Kitchener', 'Kolomna', 'Liuzhou', 'Handa', 'Hanoi', 'Imperatriz', 'Jiamusi', 'Kashiwa', 'Igboho', 'Jalpaiguri', 'Ha Noi', 'Hamadan', 'Ilebo', 'Inegol', 'Khulna', 'Hengshui', 'Legnica', 'Leninsk Kuznetskiy', 'Eindhoven', 'Haikou', 'Henderson', 'Huadian', 'Huangcun', 'Huddersfield', 'Iquitos', 'Jixi', 'Kamagaya', 'Kemerovo', 'Linshui', 'Eskisehir', 'Ghaziabad', 'Hialeah', 'Kaohsiung', 'Khabarovsk', 'Elizabeth', 'Itaboraí', 'Kota Kinabalu', 'Ferrara', 'Gadag', 'Ganganagar', 'Jiangyou', 'Kirkuk', 'Klaten', 'León', 'Hamilton', 'Kawanishi', 'Liancheng', 'Fuyang', 'Gorgan', 'Hassan', 'Isesaki', 'Jiazi', 'La Ceiba', 'Emmen', 'Essen', 'Hami', 'Islamabad', 'Itu', 'Jombang', 'Karamay', 'Karnal', 'Kermanshah', 'Kisarazu', 'Koganei', 'Ipswich', 'Katowice', 'Guaratinguetá', 'Huaiyin', 'Jamnagar', 'Jimma', 'Kiel', 'El Tigre', 'Gaziantep', 'Jequié', 'Jinhua', 'Kikwit', 'Lanzhou', 'Liverpool', 'Ganzhou', 'Itami', 'Hartford', 'Jind', 'Kaliningrad', 'Kulim', 'La Paz', 'Gizeh', 'Guacara', 'Iwatsuki', 'Jacareí', 'Lafia', 'Gangawati', 'Haarlem', 'Erode', 'Ezhou', 'Ilorin', 'Khammam', 'Licheng', 'Fuenlabrada', 'Houston', 'Ensenada', 'George', 'Kakinada', 'Kaolack', 'Lleida', 'Gaya', 'Gdynia', 'Ilobu', 'Kirov', 'Lashio', 'Lexington Fayette', 'Fez', 'Focsani', 'Jiutai', 'Kanpur', 'Groningen', 'Gulu', 'Jacksonville', 'Jaraguá Do Sul', 'Jiayuguan', 'Kusatsu', 'Lilongwe', 'Fremont', 'Hohhot', 'Jaunpur', 'Gaomi', 'Geneva', 'Juarez', 'Las Tunas', 'Kaili', 'Kiev', 'Huambo', 'Irapuato', 'Kadoma', 'Kinshasa', 'Latur', 'Foz Do Iguaçu', 'Hamm', 'Hangu', 'Hyderabad', 'Khorramabad', 'Las Palmas', 'Gandajika', 'Hapur', 'Herat', 'Escuintla', 'Hebi', 'Kaduna', 'Knoxville', 'Kunming', 'Larkana', 'Linxi', 'Itapetininga', 'Lakhnau', 'Gorontalo', 'Guelph', 'Ikare', 'Indore', 'Johor Bahru', 'Kansk', 'Kütahya', 'La Rioja', 'Fatehpur', 'Gujrat', 'Kankan', 'Kasugai', 'Kuching', 'Lasa', 'Guaymas', 'Guwahati', 'Iseyin', 'Krishnanagar', 'Encheng', 'Fürth', 'Joliet', 'Getafe', 'Grogol', 'Heze', 'Innsbruck', 'Kananga', 'Langfang', 'Gondar', 'Itapevi', 'Jiroft', 'Kharagpur', 'Klang', 'Hikone', 'Inazawa', 'Elbasan', 'Guaíba', 'Hitachi', 'Kigoma', 'Killeen', 'Irkutsk', 'Kovrov', 'Livingstone', 'Hailun', 'Hildesheim', 'Iligan', 'Hiroshima', 'Iwakuni', 'Gudalur', 'Gujranwala', 'Huainan', 'Ise', 'Leeds', 'Habra', 'Huixquilucan', 'El Monte', 'Elektrostal', 'Gudivada', 'Ivanovo', 'Izhevsk', 'Kanchrapara', 'La Vega', 'Lipa', 'Jaipur', 'Kpalimé', 'Laiyang', 'Gelsenkirchen', 'Halifax', 'Halisahar', 'Ji Paraná', 'Kabankalan', 'Kisaran', 'Kokubunji', 'Kumasi', 'Garanhuns', 'Konan', 'Lawang', 'Ingraj Bazar', 'Itagüí', 'Jian', 'Jishou', 'Leipzig', 'Eugene', 'Iwaki', 'Koszalin', 'Kusti', 'Hathras', 'Ipoh', 'Esmeraldas', 'Fuling', 'Hamamatsu', 'Jaén', 'Fort Worth', 'Göttingen', 'Junagadh', 'Karimnagar', 'Kolar', 'Kure', 'Le Mans', 'Fukaya', 'Huaihua', 'Huelva', 'Erzurum', 'Feira De Santana', 'Fort Wayne', 'Gdansk', 'Leuwiliang', 'Liusha', 'Haldwani', 'Huangpu', 'Izmir', 'Kishiwada', 'Jimeta', 'Kamyshin', 'Leghorn', 'Magdeburg', 'Mainz', 'Montería', 'Morelia', 'Namangan', 'Nukus', 'Odawara', 'Palermo', 'Purwodadi', 'Myingyan', 'Nacala', 'Raichur', 'Málaga', 'Multan', 'Musoma', 'Neyshabur', 'North Las Vegas', 'Oyo', 'Palu', 'Puerto Plata', 'Lyubertsy', 'Monywa', 'Phoenix', 'Raniganj', 'Manzanillo', 'My Tho', 'Nkpor', 'Pietermaritzburg', 'Port Gentil', 'Posadas', 'Prokopyevsk', 'Nefteyugansk', 'Pembroke Pines', 'Qingdao', 'Mülheim', 'Omsk', 'Pokhara', 'Madrid', 'Omaha', 'Phitsanulok', 'Prague', 'Rae Bareli', 'Rybnik', 'Luxor', 'Mawlamyine', 'Ondo', 'Paradise', 'Roxas', 'Mashhad', 'Port Louis', 'Reutlingen', 'Magelang', 'Makhachkala', 'Manbij', 'Nanchang', 'Ploiesti', 'Podgorica', 'Qandahar', 'Novi Sad', 'Rampur', 'Rengasdengklok', 'Onitsha', 'Ottawa', 'Petrópolis', 'Potsdam', 'Quevedo', 'Luzhou', 'Maxixe', 'Messina', 'Rafsanjan', 'Neyagawa', 'Nizhnekamsk', 'Oruro', 'Nice', 'Pangkah', 'Manchester', 'Mingaora', 'Oakland', 'Oceanside', 'Offa', 'Musashino', 'Naperville', 'Pasto', 'Potgietersrus', 'Luziânia', 'Montpellier', 'Safaqis', 'Mejicanos', 'Lowell', 'Lucena', 'Macapá', 'Maturín', 'Neiva', 'Orsha', 'Pekalongan', 'Peristérion', 'Reggio Di Calabria', 'Ruse', 'Malolos', 'Rangpur', 'Reynosa', 'Magé', 'Pabna', 'Palmas', 'Presidente Prudente', 'São Luís', 'Marawi', 'Melaka', 'Negombo', 'Rajshahi', 'Raleigh', 'Rzeszow', 'Louisville', 'Maanshan', 'Malakal', 'Oxford', 'Parakou', 'Patna', 'Petaling Jaya', 'Pforzheim', 'Philadelphia', 'Plumbon', 'Rabat', 'Mahabad', 'Martapura', 'Orange', 'Ordu', 'Mandi Bahauddin', 'Nawabganj', 'Novokuznetsk', 'Puerto Vallarta', 'Rantauprapat', 'Petapa', 'Qunduz', 'Los Angeles', 'Morogoro', 'Obuasi', 'Rostov Na Donu', 'São Gonçalo', 'Matamoros', 'Meilu', 'Modena', 'Mutare', 'Ratisbon', 'Macheng', 'Mariara', 'Man', 'Mandaue', 'Maroua', 'Moscow', 'Purnia', 'Oslo', 'Qabis', 'Nantes', 'Nha Trang', 'Sacramento', 'Nagda', 'Nakuru', 'Makurdi', 'Nanjing', 'Pindamonhangaba', 'Recklinghausen', 'Rewa', 'Majalaya', 'Marseille', 'Matadi', 'Maymyo', 'Odesa', 'Owerri', 'Puerto Cabello', 'Quanzhou', 'Madanapalle', 'Niterói', 'Randfontein', 'Loudi', 'Maseru', 'Mixco', 'Neftekamsk', 'Pasuruan', 'Pomona', 'Pringsewu', 'Remscheid', 'Makiyivka', 'Pamplona', 'Probolinggo', 'Proddatur', 'Mbandaka', 'Miskolc', 'Nashville', 'Oklahoma City', 'Orizaba', 'Palo Negro', 'Pemalang', 'Qitaihe', 'Quito', 'Ramat Gan', 'Rancho Cucamonga', 'Rockford', 'Montgomery', 'Mopti', 'Pingxiang', 'Plzen', 'Meiktila', 'Mwene Ditu', 'Norwich', 'Opobo', 'Payakumbuh', 'Pereira', 'Portoviejo', 'Rangkasbitung', 'São Carlos', 'Lubumbashi', 'Matsumoto', 'Novara', 'Ponta Grossa', 'Ramnicu Valcea', 'Muzaffarpur', 'Rybinsk', 'Mokolo', 'Murcia', 'Nuremberg', 'Odintsovo', 'Portland', 'Rancaekek', 'Ranchi', 'São Leopoldo', 'Luanda', 'Masjed E Soleyman', 'Nawabshah', 'Phagwara', 'Rotterdam', 'Saarbrücken', 'Luqiao', 'Mianyang', 'Neuss', 'Numazu', 'Padang', 'Plây Cu', 'Machilipatnam', 'Manta', 'Nagaoka', 'Oulu', 'Queimados', 'Moreno Valley', 'Nandyal', 'Nizhnevartovsk', 'Nnewi', 'Olongapo', 'Pontianak', 'Luan', 'Mandalay', 'Minsk', 'Nadiad', 'Norman', 'Pretoria', 'Maba', 'Mau', 'Oldham', 'Sabratah', 'Montreal', 'Nagercoil', 'Nantong', 'Nagoya', 'Nakhon Si Thammarat', 'Nizhniy Novgorod', 'Padalarang', 'Plano', 'Pristina', 'Qom', 'Sabha', 'Nakhon Pathom', 'Perth', 'Ribeirão Das Neves', 'Pétionville', 'Pilibhit', 'Rongcheng', 'Nizamabad', 'Paramaribo', 'Ruda Slaska', 'Nazran', 'Ningbo', 'Panzhihua', 'Parbhani', 'Pitesti', 'Quetzaltenango', 'Resende', 'Luque', 'Mazatlán', 'São Bernardo Do Campo', 'Monterrey', 'Misato', 'Nantou', 'Memphis', 'Nonthaburi', 'Pakokku', 'Palakkad', 'Pôrto Velho', 'Rajpur', 'Obninsk', 'Oshawa', 'Mahbubnagar', 'Panamá', 'São José Do Rio Prêto', 'Madison', 'Maracanaú', 'Otukpo', 'Peshawar', 'Maykop', 'Parana', 'Monclova', 'Montalban', 'Palma Soriano', 'Parsabad', 'Puno', 'Mardan', 'Milwaukee', 'Naples', 'Obihiro', 'Palwal', 'Punto Fijo', 'Rawang', 'Mexicali', 'Newport News', 'Panihati', 'Pasadena', 'Pittsburgh', 'Mogadishu', 'Osasco', 'Oyama', 'Pyay', 'Malang', 'Orekhovo Zuevo', 'Paris', 'Phalaborwa', 'Rotherham', 'Monza', 'Nador', 'Petrolina', 'Potosí', 'Mesquite', 'Mojokerto', 'Nyíregyháza', 'Ouagadougou', 'Piura', 'Poços De Caldas', 'Rijeka', 'Ludhiana', 'Pietersburg', 'Poá', 'Mercedes', 'Miass', 'Navadwip', 'Oldenburg', 'Plymouth', 'São José', 'Nelspruit', 'Rohtak', 'Ruiru', 'Lubbock', 'Nigel', 'Okazaki', 'Rostock', 'Lyon', 'Magangué', 'Moji Das Cruzes', 'Nam Dinh', 'Narayanganj', 'Rewari', 'Manzini', 'Nkongsamba', 'Porbandar', 'Sabadell', 'Münster', 'Poltava', 'Riyadh', 'São João De Meriti', 'Metepec', 'Misratah', 'Newark', 'Nova Iguaçu', 'Olsztyn', 'Sadiqabad', 'Madhyamgram', 'Mahajanga', 'Riga', 'Mazyr', 'Milan', 'Passo Fundo', 'Port Au Prince', 'Qianguo', 'Manama', 'Morena', 'Osmaniye', 'Piracicaba', 'Navsari', 'Porto', 'Machida', 'Pouso Alegre', 'Managua', 'Mezhdurechensk', 'Novocheboksarsk', 'Rajamahendri', 'Rangoon', 'Ratlam', 'Paderborn', 'Palembang', 'São Caetano Do Sul', 'Miri', 'Nagareyama', 'Nova Friburgo', 'Queluz', 'Raiganj', 'Mirzapur', 'Mormugao', 'Perm', 'Maisuru', 'Mbour', 'Milagro', 'Moshi', 'Nampula', 'Noda', 'Queenstown', 'Munger', 'Muzaffarnagar', 'Newport', 'Oktyabrskiy', 'Qena', 'Nassau', 'Otaru', 'Palmira', 'Pudukkottai', 'Pueblo', 'Rondonópolis', 'Netanya', 'Palanpur', 'Mendoza', 'Novo Hamburgo', 'Pallavaram', 'Panchiao', 'Maler Kotla', 'Maragheh', 'Padova', 'Pelotas', 'Radom', 'Murwara', 'Petropavlovsk Kamchatskiy', 'Ponce', 'Mergui', 'Moers', 'Nazret', 'Nijmegen', 'Pacet', 'Phra Pradaeng', 'Port Blair', 'Mecca', 'Ludwigshafen', 'Muzaffargarh', 'Patos De Minas', 'Piatra Neamt', 'Qalyub', 'Manado', 'Novotroitsk', 'Olomouc', 'Puyang', 'Okara', 'Phnum Pénh', 'Mombasa', 'Nakhon Ratchasima', 'Narashino', 'Navoi', 'Oaxaca', 'Perbaungan', 'Reno', 'Metairie', 'Montes Claros', 'New Orleans', 'Pasarkemis', 'Qui Nhon', 'Rasht', 'São Vicente', 'Móstoles', 'Marabá', 'Mufulira', 'Niihama', 'Qostanay', 'Pati', 'Pingshan', 'Rustenburg', 'Lublin', 'Mudanjiang', 'Okrika', 'Mandya', 'Mannheim', 'Nilópolis', 'Ontario', 'Poole', 'Prabumulih', 'Puruliya', 'Rio Branco', 'Luton', 'Rubtsovsk', 'Novorossiysk', 'Pak Kret', 'Rio Cuarto', 'Luohe', 'Lusaka', 'Orumiyeh', 'Petrozavodsk', 'Mexico', 'North Shore', 'Reykjavík', 'Rochester', 'Nalchik', 'Nancha', 'Nobeoka', 'Norilsk', 'Ome', 'Macaé', 'Manila', 'Mytishchi', 'Nangloi Jat', 'Novocherkassk', 'Patiala', 'Paulista', 'Middelburg', 'Morvi', 'Nîmes', 'Olinda', 'Qiqihar', 'Matsudo', 'Palma', 'Nizhniy Tagil', 'Paseh', 'Nalgonda', 'Pathankot', 'Port Saint Lucie', 'Maastricht', 'Manizales', 'Pagadian', 'Parnaíba', 'Peking', 'Pingliang', 'Punta Arenas', 'São Paulo', 'Sabzevar', 'Madurai', 'Nehe', 'Nis', 'Palhoça', 'Penza', 'Phan Thiet', 'Port Moresby', 'Nanchong', 'Osnabrück', 'Pakpattan', 'Qujing', 'Rawalpindi', 'Ribeirão Prêto', 'Sabará', 'Marand', 'Nanded', 'Ogaki', 'Pucallpa', 'Pune', 'Mataró', 'Nazilli', 'Podolsk', 'Mostar', 'Oxnard', 'Nanpiao', 'Natal', 'Petropavl', 'Rajapalaiyam', 'Mbeya', 'Meycauayan', 'Neuquen', 'Norfolk', 'Pingtung', 'Port Harcourt', 'Puerto Montt', 'Reading', 'Ndola', 'Peterborough', 'Regina', 'Reims', 'Machala', 'Malegaon', 'Maradi', 'Marrakesh', 'Mirpur Khas', 'Quebec', 'Noginsk', 'Raipur', 'Rennes', 'Maceió', 'Mar Del Plata', 'Motihari', 'Mubi', 'Oberhausen', 'Obregon', 'Orai', 'Panvel', 'Pindiga', 'Puebla', 'Recife', 'Robertsonpet', 'Monrovia', 'New Haven', 'Petare', 'Pimpri', 'Luancheng', 'Manaus', 'Mossoró', 'Pingchen', 'Pskov', 'Rosario', 'Mönchengladbach', 'Pondicherry', 'Metz', 'Murom', 'Naga', 'Nagpur', 'Orkney', 'Overland Park', 'Potchefstroom', 'Ranghulu', 'Maputo', 'Masaya', 'Moriguchi', 'Owo', 'Parma', 'Ravenna', 'Rimini', 'Marília', 'Pôrto Seguro', 'Mentougou', 'Omuta', 'Oshogbo', 'Purwakarta', 'Qinzhou', 'Rouen', 'Matola', 'Nguru', 'Medellín', 'Melbourne', 'Nevinnomyssk', 'Orléans', 'Paterson', 'Prizren', 'Rialto', 'Malabo', 'Minatitlán', 'Namur', 'Offenbach', 'Rome', 'São José Dos Campos', 'Panipat', 'Quchan', 'Richardson', 'Maiduguri', 'Malambo', 'Marivan', 'Northampton', 'Perugia', 'Piedras Negras', 'Lower Hutt', 'Orsk', 'Peoria', 'Perpignan', 'Ruian', 'Pinsk', 'Qinhuangdao', 'Minna', 'Purwokerto', 'Maoming', 'Pescara', 'Qazvin', 'Riverside', 'Mabalacat', 'Loum', 'Medan', 'Minneapolis', 'Newcastle Upon Tyne', 'Ngaoundéré', 'Pavlodar', 'Pemba', 'Rabak', 'Mobile', 'Nairobi', 'Najran', 'Ogbomosho', 'Pamanukan', 'Mersin', 'Nancy', 'Niamey', 'Praia Grande', 'Malatya', 'Obosi', 'Pamulang', 'Los Mochis', 'Marv Dasht', 'New Delhi', 'Mwanza', 'Ongole', 'Ota', 'Porto Alegre', 'Paarl', 'Lumajang', 'Portmore', 'Pathein', 'Rizhao', 'Matsubara', 'Portsmouth', 'Matanzas', 'Oviedo', 'Pavlohrad', 'Madiun', 'Mangaluru', 'Nossa Senhora Do Socorro', 'Pátrai', 'Rajkot', 'Querétaro', 'Ribeirão Pires', 'Mérida', 'Muridke', 'Palmdale', 'Paranaguá', 'Parnamirim', 'Port Elizabeth', 'Los Reyes', 'Maracay', 'Novosibirsk', 'Luoyang', 'Manisa', 'Nishinomiya', 'Pingdingshan', 'Madras', 'Pate', 'Plovdiv', 'Quelimane', 'Raigarh', 'Rancagua', 'Mauá', 'Nottingham', 'Rio Claro', 'Modakeke', 'Nakhodka', 'Newcastle', 'Norwalk', 'Pleven', 'Pulandian', 'Puqi', 'Purworejo', 'Louga', 'Naucalpan', 'Rio Grande', 'Neijiang', 'Mathura', 'Panevezys', 'Providence', 'Magnitogorsk', 'Mitaka', 'São José Dos Pinhais', 'Luanshya', 'Miami', 'Moundou', 'Niiza', 'Nsukka', 'Pachuca', 'Pali', 'Plock', 'Miramar', 'Nishio', 'Novomoskovsk', 'Nueva San Salvador', 'Ocumare Del Tuy', 'Odense', 'Pasir Gudang', 'Ponnani', 'Qingyuan', 'Pervouralsk', 'Mishima', 'Narita', 'Nuevo Laredo', 'Nzérékoré', 'Makati', 'Mandsaur', 'Miandoab', 'Murmansk', 'Puerto Princesa', 'Richmond', 'Lvov', 'Mesa', 'Moga', 'Orël', 'Puri', 'Riobamba', 'Orlando', 'Quilpue', 'Resistencia', 'Los Teques', 'Luchou', 'Montevideo', 'Rishra', 'Marbella', 'New York', 'Médéa', 'Maracaibo', 'Matsusaka', 'Mbuji Mayi', 'Midrand', 'Maringá', 'Patan', 'Preston', 'Pyatigorsk', 'Malmö', 'Miyakonojo', 'Nanyang', 'Olathe', 'Osorno', 'Rayong', 'Mahesana', 'Narsingdi', 'Nicolás Romero', 'Niigata', 'Pinar Del Río', 'Rach Gia', 'Roseville', 'Nezahualcóyotl', 'Opole', 'Rio De Janeiro', 'Ryazan', 'Nouakchott', 'Qianjiang', 'Richards Bay', 'Mbouda', 'Pécs', 'Mingshui', 'Naihati', 'Nanning', 'Port Said', 'Munich', 'Neyveli', 'Ostrava', 'Prato', 'Quetta', 'Makasar', 'Moradabad', 'Oradea', 'Poznan', 'Rivne', 'Lubango', 'Maicao', 'Metro', 'Modesto', 'Moratuwa', 'Nandurbar', 'Nogales', 'Provo', 'Raurkela', 'Mataram', 'Middlesbrough', 'Mulhouse', 'Oron', 'Parung', 'Qarchak', 'Samarkand', 'Taicheng', 'Villahermosa', 'Volgograd', 'Worcester', 'Shiraz', 'Springfield', 'Tangerang', 'Tempe', 'Temuco', 'Trincomalee', 'Voronezh', 'Saharsa', 'Thornton', 'Wellington', 'Zhangjiakou', 'Suining', 'Winnipeg', 'Tamale', 'Vizianagaram', 'Zigong', 'Salzburg', 'Sogamoso', 'Takarazuka', 'Ulaanbaatar', 'Savannah', 'Shizuishan', 'Toms River', 'Ungaran', 'Yokosuka', 'Santa Catarina', 'Santos', 'Sholapur', 'Shulin', 'Shaoguan', 'Tongliao', 'San Cristóbal', 'Tambun', 'Uberaba', 'Xichang', 'San José', 'Ust Ilimsk', 'Zhongshan', 'Slough', 'Ulm', 'Yavatmal', 'San Juan Del Río', 'San Juan Sacatepéquez', 'Tasikmalaya', 'Tondabayashi', 'Tsuchiura', 'Urfa', 'Yaan', 'Sirjan', 'Takoradi', 'Xingtai', 'West Valley City', 'Saqqez', 'Singapore', 'Sunderland', 'Tallinn', 'Tuluá', 'Velikie Luki', 'Yuci', 'San Luis', 'Sanhsia', 'Scottsdale', 'Suceava', 'Taranto', 'Santa Cruz Do Sul', 'Santander', 'Tacloban', 'Tadepallegudem', 'Tianjin', 'Samarinda', 'Toulon', 'Wuhan', 'Salalah', 'Trelew', 'Ueda', 'Veracruz', 'Wahran', 'Sujiatun', 'Tomakomai', 'Yüanlin', 'San Antonio', 'San Fernando', 'San Miguelito', 'Sivas', 'Uromi', 'Siegen', 'Zinder', 'Satara', 'Stockholm', 'Tegucigalpa', 'Tighina', 'Turku', 'Tabuk', 'Wencheng', 'Yancheng', 'Staryy Oskol', 'Suita', 'Sukabumi', 'Tiruvottiyur', 'Torun', 'Semey', 'Sobral', 'Tangshan', 'Taoyüan', 'Tete', 'Wuwei', 'Swindon', 'Talisay', 'Vadodara', 'Sirsa', 'Toluca', 'Wuppertal', 'Zanzibar', 'Zelenograd', 'Sancti Spíritus', 'Sarajevo', 'Syzran', 'Yinchuan', 'Sikar', 'Tanza', 'Zhanjiang', 'Ussuriysk', 'Vanderbijlpark', 'Vinnitsa', 'Yuyao', 'Salatiga', 'Santo Domingo', 'Visalia', 'Seversk', 'Tumkur', 'Solikamsk', 'Szczecin', 'Uruguaiana', 'Waitakere', 'Zhangzhou', 'Shimla', 'Stavropol', 'Sukkur', 'Sur', 'Subang', 'Taiyuan', 'Trondheim', 'Yekaterinburg', 'Zabrze', 'Sapucaia', 'Sekondi', 'Sete Lagoas', 'Tanete', 'Tomsk', 'Thanyaburi', 'Topeka', 'Victoria', 'Vina Del Mar', 'Wollongong', 'Yueyang', 'San Diego', 'San Francisco', 'Tandil', 'Würzburg', 'Sochi', 'Yibin', 'Yizheng', 'San Rafael', 'Tbilisi', 'Unnao', 'Varanasi', 'Vladimir', 'Weinan', 'Santa Cruz', 'Santa Rosa', 'Santiago Del Estero', 'Shikarpur', 'Sirajganj', 'Taian', 'Yenangyaung', 'Zagreb', 'Taizhou', 'Tenali', 'Terrassa', 'Ulhasnagar', 'Sawangan', 'Sukaraja', 'Xian', 'Santarém', 'Tarsus', 'Tekirdag', 'Yungkang', 'Zama', 'San Francisco De Macorís', 'San Pedro Sula', 'Surt', 'Tallahassee', 'Toamasina', 'Windhoek', 'Siwan', 'Tianmen', 'Verona', 'Sakura', 'Santa Maria', 'Shinyanga', 'Tachikawa', 'Taiping', 'Targu Mures', 'Thousand Oaks', 'Velluru', 'Sibu', 'Yazd', 'Zouxian', 'Samara', 'Serra', 'Sucre', 'Talcahuano', 'Tiruppur', 'Wah', 'Yokkaichi', 'San Salvador', 'Santa Clara', 'Sydney', 'Tabora', 'Talara', 'Tokyo', 'Villa Nueva', 'Yidu', 'Yushu', 'Thanh Hóa', 'Tiruvannamalai', 'Vienna', 'Zaozhuang', 'Zhaocheng', 'Zhucheng', 'Sambalpur', 'Waw', 'Wloclawek', 'Xiamen', 'Zhytomyr', 'Salto', 'Sunrise Manor', 'Tarija', 'Tokat', 'Västerås', 'Wad Madani', 'Yerevan', 'Uvira', 'Vihari', 'Yelahanka', 'Zhuozhou', 'San Pedro De Macorís', 'Seoni', 'Tando Adam', 'Yanji', 'Zaragoza', 'Shah Alam', 'Susah', 'Sargodha', 'Uberlândia', 'Ulubaria', 'Sayama', 'Serang', 'Yatsushiro', 'Shahjahanpur', 'Sikasso', 'Xinyang', 'Yingcheng', 'Salihorsk', 'Sarh', 'Shashi', 'Tabriz', 'Tunis', 'Yungho', 'Zaporizhzhya', 'Tambov', 'Tampere', 'Venice', 'Vitoria', 'Zabol', 'Sanbu', 'Santa Cruz De Tenerife', 'Tawau', 'Uitenhage', 'Washington', 'Soacha', 'Soweto', 'Stoke On Trent', 'Tarnow', 'Uyo', 'Shenyang', 'Siverek', 'Singaraja', 'Tyumen', 'Weru', 'Yamoussoukro', 'San Bernardo', 'Shuangcheng', 'South Bend', 'Usak', 'Welkom', 'Semnan', 'Shihezi', 'Smolensk', 'Sohag', 'Tepic', 'Vladivostok', 'Westonaria', 'Semarang', 'Singkawang', 'Tongchuan', 'Tampico', 'Tarragona', 'Xiangfan', 'Satkhira', 'Sepatan', 'Syktyvkar', 'Tieling', 'Toungoo', 'Santa Rita', 'Suzhou', 'Turgutlu', 'Vicenza', 'Warren', 'Zuwarah', 'Tuguegarao', 'Vidisha', 'Zamora', 'Thrissur', 'Xiazhen', 'Zenica', 'Soka', 'Tampa', 'Wenzhou', 'Yongan', 'Srikakulam', 'Surat Thani', 'Tottori', 'Vologda', 'Zalantun', 'Samut Prakan', 'Suez', 'Tacna', 'Texcoco', 'Volgodonsk', 'Shaping', 'Sheffield', 'Trujillo', 'Virar', 'Zurich', 'Toyokawa', 'Vung Tau', 'Shuangyashan', 'Siauliai', 'Suzuka', 'Tula', 'Ubon Ratchathani', 'Uzhhorod', 'Vanadzor', 'Yining', 'Surendranagar', 'Yichang', 'Zanjan', 'Zhaodong', 'Thana', 'Toronto', 'Vryheid', 'Wiesbaden', 'Sasaram', 'Sosnowiec', 'Velikiy Novgorod', 'San Pédro', 'Sanandaj', 'Sanmenxia', 'Wufeng', 'Stavanger', 'Sterling Heights', 'Vladikavkaz', 'San Pedro', 'Solingen', 'Terni', 'Toledo', 'Ukhta', 'Vinnytsya', 'Split', 'Ugep', 'Uji', 'Várzea Grande', 'Torreón', 'Ube', 'Warsaw', 'West Jordan', 'San Lorenzo', 'Sorocaba', 'Wuning', 'Yiyang', 'Sanda', 'Shreveport', 'San Pablo De Las Salinas', 'Spring Valley', 'Vinh Long', 'Shahe', 'Shakhty', 'Suihua', 'Sullana', 'Toyohashi', 'Ujjain', 'Urdaneta', 'Zoetermeer', 'Yamunanagar', 'Sumaré', 'Tanta', 'Tulancingo', 'Tunja', 'Westminster', 'Zhoucun', 'Soubré', 'Tilburg', 'Shillong', 'Shunyi', 'Suriapet', 'Xining', 'Saint Denis', 'Spanish Town', 'Thanjavur', 'Vancouver', 'Yonago', 'Salem', 'Santa Fe', 'Sekudai', 'Tambaram', 'The Hague', 'Santa Ana', 'Volzhskiy', 'Waco', 'Soreang', 'Xuzhou', 'Santa Teresa', 'Székesfehérvár', 'Tétouan', 'Takaoka', 'Thái Nguyên', 'Thanesar', 'Warqla', 'San Luis Potosí', 'Teresina', 'Volta Redonda', 'Wolfsburg', 'Wuda', 'Xiangdong', 'Saransk', 'Serpukhov', 'Takasaki', 'Yangjiang', 'Sergiyev Posad', 'Serekunda', 'Siirt', 'Tokorozawa', 'Trois Rivières', 'Sakata', 'Sanchung', 'Shiliguri', 'Taganrog', 'Termiz', 'Tripoli', 'Salvador', 'San Mateo', 'Sokoto', 'Surat', 'Xingyi', 'Yuncheng', 'Torrejón De Ardoz', 'Weifang', 'Yaoundé', 'Sialkot', 'Silchar', 'Taichung', 'Ufa', 'Sincelejo', 'Vereeniging', 'Warangal', 'Zhangdian', 'Zhoucheng', 'San Nicolás De Los Garza', 'Seattle', 'Shangrao', 'Teluknaga', 'Trieste', 'Waru', 'Yevpatoriya', 'Zapopan', 'Samsun', 'Stamford', 'Wanxian', 'Wuxue', 'Yonkers', 'Tirana', 'Severodvinsk', 'Tainan', 'Virginia', 'Xinxiang', 'Zunyi', 'Shahrud', 'Sharjah', 'Shrirampur', 'Simi Valley', 'Takatsuki', 'Tanga', 'Yachiyo', 'Soledad', 'Sunnyvale', 'Urayasu', 'Waterloo', 'Xintai', 'Sasebo', 'Wichita', 'Zhukovskiy', 'Sherpur', 'Southampton', 'Santa Clarita', 'Shahreza', 'Sitapur', 'Udupi', 'Ulyanovsk', 'Viransehir', 'Walsall', 'Zielona Gora', 'Ulan Ude', 'Salta', 'San Juan', 'Sarapul', 'Strasbourg', 'Stuttgart', 'Toulouse', 'Trier', 'Vallejo', 'Van', 'Taipei', 'Timisoara', 'Vientiane', 'Suleja', 'Sultanpur', 'Swansea', 'Tiruchchirappalli', 'Uruapan', 'Utrecht', 'Waterbury', 'Valparaiso', 'Surabaya', 'Talca', 'Tengzhou', 'Ternate', 'Yanan', 'Sahiwal', 'Saltillo', 'Soyapango', 'Tehuacán', 'Tongzhou', 'Touliu', 'Xianyang', 'Xinzhou', 'Zhaoqing', 'Suzano', 'Tours', 'Tver', 'San Martin', 'Somerset West', 'Songea', 'Taitung', 'Villavicencio', 'Zamboanga', 'Tapachula', 'Teresópolis', 'Wuzhou', 'Xuchang', 'Salerno', 'Salinas', 'Sinnar', 'Stara Zagora', 'Sutton Coldfield', 'Thaton', 'Xico', 'Yaizu', 'Tama', 'Titagarh', 'Sambhal', 'Shiyan', 'Spokane', 'Vigo', 'Yulin', 'Zhuzhou', 'Sawai Madhopur', 'Wuxi', 'Saharanpur', 'Saint Étienne', 'Shimonoseki', 'Saint Louis', 'San Nicolas', 'Shantipur', 'Stockport', 'Tuxtla Gutiérrez', 'Yingzhong', 'San Jose', 'San Pablo', 'Saveh', 'Shahr E Kord', 'Southend On Sea', 'Windsor', 'Xuanzhou', 'Yantai', 'Zhuji', 'Santo André', 'Saint Paul', 'Stockton', 'Tegal', 'Varamin', 'Walbrzych', 'Yelets', 'Zonguldak', 'Vinh', 'Tauranga', 'Varna', 'Setúbal', 'Tagum', 'Tonalá', 'Tucson', 'Umm Durman', 'Várzea Paulista', 'Xai Xai', 'Tarlac', 'Thessaloníki', 'Tirupati', 'Vitória Da Conquista', 'Sakai', 'Si Racha', 'Sunggal', 'Tali', 'Tangier', 'Thiruvananthapuram', 'Toliary', 'Yichun', 'Teófilo Otoni', 'Vilnius', 'Saint Petersburg', 'Shaoyang', 'Shekhupura', 'Shilong', 'Salavat', 'Tacoma', 'Zwolle', 'Seoul', 'Sherbrooke', 'Shaki', 'Teshie', 'Wroclaw', 'Sidoarjo', 'Zaria', 'Satu Mare', 'Sokodé', 'Valencia', 'Wardha', 'Zacatecas', 'Sassari', 'Shaoxing', 'Surgut', 'Turhal', 'Tuzla', 'Yangmei', 'Zaoyang', 'Sagar', 'Vila Velha', 'West Bromwich', 'Sagamihara', 'Shenzhen', 'Taboão Da Serra', 'Taman', 'Tucuman', 'Virginia Beach', 'Warri', 'Temirtau', 'Tulsa', 'Wazirabad', 'Sumy', 'Zlatoust', 'Saga', 'Sonipat', 'Uppsala', 'Viamão', 'Sari', 'Springs', 'Sungai Petani', 'Tanshui', 'Tarhunah', 'Tel Aviv Yafo', 'Tlaquepaque', 'Yushan', 'Tsukuba', 'Tungi', 'Saratov', 'Seto', 'Sevilla', 'Thiès', 'Tonk', 'Townsville', 'Tshikapa', 'Udgir', 'Vejalpur', 'Vijayawada', 'Weihai', 'Xinpu', 'Satna', 'Torrance', 'Tubruq', 'West Covina', 'Wichita Falls', 'Zhaotong', 'Sanming', 'Santa Luzia', 'Srinagar', 'Surakarta', 'Tartus', 'Taubaté', 'Toyonaka', 'Trento', 'Xiaolan', 'Yangzhou', 'Sandakan', 'Shishou', 'Sofia', 'Tanggu', 'Toda', 'Winston Salem', 'Yingkou', 'Sapele', 'Toyota', 'Valledupar', 'Zhicheng', 'Tartu', 'Tlalnepantla', 'Saitama', 'San Bernardino', 'Shymkent', 'Talkha', 'Taunggyi', 'Tembisa', 'Wolverhampton', 'Xuanhua', 'Soc Trang', 'Umuahia', 'Valdivia', 'Salzgitter', 'Shimoga', 'Syracuse', 'Verwoerdburg', 'Witten', 'Xiantao', 'Zhoukou', 'Salt Lake City', 'Villeurbanne', 'Watford', 'Tanjung Morawa', 'Zaanstad', 'Zhenjiang', 'Taytay', 'Tongling', 'Tucheng', 'Turmero', 'Villa Canales', 'Yao', 'Zhumadian', 'Ziguinchor', 'Skopje', 'Wuhu', 'Xalapa', 'Zhezkazgan', 'Santiago', 'Sudbury', 'Wulanhaote', 'Yakeshi', 'Santa Marta', 'Yogyakarta', 'Tajimi', 'Taonan', 'Tashkent', 'Tirunelveli', 'Tolyatti', 'Veraval', 'Saskatoon', 'Tebingtinggi', 'Tema', 'Zelenodolsk', 'Tychy', 'Vitória De Santo Antão', 'York', 'Zhuhai', 'Salamanca', 'San Carlos De Bariloche', 'Shaowu', 'Sorong', 'Tijuana', 'Saint Helens', 'Selam', 'Seremban', 'Shangqiu', 'Visakhapatnam', 'Vitória', 'Sterlitamak', 'Türkmenabat', 'Trabzon', 'Tumbes', 'Zhaoyang', 'Sibiu', 'Taraz', 'Tokuyama', 'Tieli', 'Varginha', 'Sumedang', 'Turin', 'San Luis Río Colorado', 'Santiago De Cuba', 'Shagamu', 'Udon Thani', 'Valladolid', 'Witbank', 'Shanghai', 'Sioux Falls', 'Szeged', 'Timon', 'Yaroslavl']\n"
          ]
        }
      ]
    },
    {
      "cell_type": "code",
      "source": [
        "from pyspark.sql.functions import max, min\n",
        "\n",
        "# Agrupando as temperaturas por cidade e calcular a temperatura máxima e mínima\n",
        "dados_agrupados = dados.groupBy(\"City\").agg(max(\"AverageTemperature_numeric\").alias(\"max_temp\"),\n",
        "                                            min(\"AverageTemperature_numeric\").alias(\"min_temp\"))\n",
        "\n",
        "# Calculando a diferença entre as temperaturas máxima e mínima\n",
        "dados_diferenca = dados_agrupados.withColumn(\"diferenca_temp\", expr(\"max_temp - min_temp\"))\n",
        "\n",
        "# Selecionando as colunas \"City\" e \"diferenca_temp\"\n",
        "dados_final = dados_diferenca.select(\"City\", \"diferenca_temp\")\n",
        "\n",
        "# Exibindo os resultados\n",
        "dados_final.show()\n"
      ],
      "metadata": {
        "id": "nPTr9-vdvvXa"
      },
      "execution_count": null,
      "outputs": []
    },
    {
      "cell_type": "code",
      "source": [
        "# Ordenando o DataFrame em ordem crescente de acordo com a coluna \"diferenca_temp\"\n",
        "dados_final = dados_final.sort(col(\"diferenca_temp\").desc())\n",
        "\n",
        "# Exibindo os resultados\n",
        "dados_final.show()\n"
      ],
      "metadata": {
        "id": "FQ4I46HJvwds"
      },
      "execution_count": null,
      "outputs": []
    },
    {
      "cell_type": "code",
      "source": [
        "# Criando um novo DataFrame com apenas as 10 primeiras linhas de \"dados_final\"\n",
        "top_cities = dados_final.limit(10)\n",
        "\n",
        "# Exibindo o novo DataFrame\n",
        "top_cities.show()"
      ],
      "metadata": {
        "colab": {
          "base_uri": "https://localhost:8080/"
        },
        "id": "9Ns1w_q23rzc",
        "outputId": "cbec5add-398e-476d-ae2a-694c1a92a2f3"
      },
      "execution_count": 33,
      "outputs": [
        {
          "metadata": {
            "tags": null
          },
          "name": "stdout",
          "output_type": "stream",
          "text": [
            "+--------------+------------------+\n",
            "|          City|    diferenca_temp|\n",
            "+--------------+------------------+\n",
            "|        Yichun|61.010000000000005|\n",
            "|       Norilsk| 59.57599999999999|\n",
            "|    Ust Ilimsk|59.022999999999996|\n",
            "|         Kyzyl|            58.816|\n",
            "|        Hailar|57.830999999999996|\n",
            "|       Yakeshi|57.830999999999996|\n",
            "|Nizhnevartovsk|56.254000000000005|\n",
            "|          Nehe|             55.81|\n",
            "|        Bratsk|55.733999999999995|\n",
            "|         Heihe|            55.309|\n",
            "+--------------+------------------+\n",
            "\n"
          ]
        }
      ]
    },
    {
      "cell_type": "code",
      "source": [
        "# Armazenando o tempo de término\n",
        "end_time = time.time()\n",
        "\n",
        "# Calculando o tempo total de execução\n",
        "execution_time = end_time - start_time\n",
        "\n",
        "# Exibindo o tempo total de execução\n",
        "print(\"Tempo de execução: {:.2f} segundos\".format(execution_time))"
      ],
      "metadata": {
        "colab": {
          "base_uri": "https://localhost:8080/"
        },
        "id": "qoozjlg5BPVI",
        "outputId": "9442978f-ffce-4852-adb2-d7f05e2ae135"
      },
      "execution_count": 34,
      "outputs": [
        {
          "metadata": {
            "tags": null
          },
          "name": "stdout",
          "output_type": "stream",
          "text": [
            "Tempo de execução: 123.31 segundos\n"
          ]
        }
      ]
    }
  ]
}