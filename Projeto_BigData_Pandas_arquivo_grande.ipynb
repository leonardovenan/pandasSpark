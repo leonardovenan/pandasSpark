{
  "nbformat": 4,
  "nbformat_minor": 0,
  "metadata": {
    "colab": {
      "provenance": []
    },
    "kernelspec": {
      "name": "python3",
      "display_name": "Python 3"
    },
    "language_info": {
      "name": "python"
    }
  },
  "cells": [
    {
      "cell_type": "code",
      "execution_count": 29,
      "metadata": {
        "id": "8qmonQ1NSC7J"
      },
      "outputs": [],
      "source": [
        "import pandas as pd\n",
        "import numpy as np\n",
        "import time"
      ]
    },
    {
      "cell_type": "markdown",
      "metadata": {
        "id": "q0AjDss3Cm7s"
      },
      "source": [
        "## Gráficos que mostram a evolução da temperatura média entre as cidades"
      ]
    },
    {
      "cell_type": "code",
      "source": [
        "# Armazenando o tempo de início\n",
        "start_time = time.time()"
      ],
      "metadata": {
        "id": "WM110PKYCK1W"
      },
      "execution_count": 30,
      "outputs": []
    },
    {
      "cell_type": "code",
      "execution_count": 31,
      "metadata": {
        "id": "M7UqaCNOCm7u",
        "colab": {
          "base_uri": "https://localhost:8080/"
        },
        "outputId": "8f420f59-5a95-485b-dba2-5105211d62da"
      },
      "outputs": [
        {
          "output_type": "stream",
          "name": "stdout",
          "text": [
            "           dt  AverageTemperature  AverageTemperatureUncertainty   City  \\\n",
            "0  1743-11-01               6.068                          1.737  Århus   \n",
            "1  1743-12-01                 NaN                            NaN  Århus   \n",
            "2  1744-01-01                 NaN                            NaN  Århus   \n",
            "3  1744-02-01                 NaN                            NaN  Århus   \n",
            "4  1744-03-01                 NaN                            NaN  Århus   \n",
            "\n",
            "   Country Latitude Longitude  \n",
            "0  Denmark   57.05N    10.33E  \n",
            "1  Denmark   57.05N    10.33E  \n",
            "2  Denmark   57.05N    10.33E  \n",
            "3  Denmark   57.05N    10.33E  \n",
            "4  Denmark   57.05N    10.33E  \n"
          ]
        }
      ],
      "source": [
        "dados = pd.read_csv(\"GlobalLandTemperaturesByCity.csv\", sep=\",\")\n",
        "print(dados.head())"
      ]
    },
    {
      "cell_type": "code",
      "execution_count": 32,
      "metadata": {
        "id": "Q0iIfP0GCm7w",
        "colab": {
          "base_uri": "https://localhost:8080/"
        },
        "outputId": "b2b97c81-43a3-446f-ec90-ee8cd0e23222"
      },
      "outputs": [
        {
          "output_type": "stream",
          "name": "stdout",
          "text": [
            "           dt  AverageTemperature  AverageTemperatureUncertainty   City  \\\n",
            "0  1743-11-01               6.068                          1.737  Århus   \n",
            "5  1744-04-01               5.788                          3.624  Århus   \n",
            "6  1744-05-01              10.644                          1.283  Århus   \n",
            "7  1744-06-01              14.051                          1.347  Århus   \n",
            "8  1744-07-01              16.082                          1.396  Århus   \n",
            "\n",
            "   Country Latitude Longitude  \n",
            "0  Denmark   57.05N    10.33E  \n",
            "5  Denmark   57.05N    10.33E  \n",
            "6  Denmark   57.05N    10.33E  \n",
            "7  Denmark   57.05N    10.33E  \n",
            "8  Denmark   57.05N    10.33E  \n"
          ]
        }
      ],
      "source": [
        "## Limpeza dos dados utilizando o método .dropna() para remover linhas com valores ausentes \n",
        "dados.dropna(inplace=True)\n",
        "\n",
        "print(dados.head())\n",
        "\n"
      ]
    },
    {
      "cell_type": "code",
      "execution_count": 33,
      "metadata": {
        "id": "UxsRwJOiCm7x",
        "colab": {
          "base_uri": "https://localhost:8080/",
          "height": 238
        },
        "outputId": "7464e70f-45ed-4283-ab36-bfef20cfeda6"
      },
      "outputs": [
        {
          "output_type": "execute_result",
          "data": {
            "text/plain": [
              "                      AverageTemperature  AverageTemperatureUncertainty\n",
              "year City                                                              \n",
              "1743 A Coruña                     10.779                          1.942\n",
              "     Aachen                        6.425                          1.628\n",
              "     Aalborg                       6.068                          1.737\n",
              "     Aberdeen                      8.758                          1.886\n",
              "     Aix En Provence               7.478                          1.866"
            ],
            "text/html": [
              "\n",
              "  <div id=\"df-412d9df9-c70d-4556-8235-4a0376e5dd2d\">\n",
              "    <div class=\"colab-df-container\">\n",
              "      <div>\n",
              "<style scoped>\n",
              "    .dataframe tbody tr th:only-of-type {\n",
              "        vertical-align: middle;\n",
              "    }\n",
              "\n",
              "    .dataframe tbody tr th {\n",
              "        vertical-align: top;\n",
              "    }\n",
              "\n",
              "    .dataframe thead th {\n",
              "        text-align: right;\n",
              "    }\n",
              "</style>\n",
              "<table border=\"1\" class=\"dataframe\">\n",
              "  <thead>\n",
              "    <tr style=\"text-align: right;\">\n",
              "      <th></th>\n",
              "      <th></th>\n",
              "      <th>AverageTemperature</th>\n",
              "      <th>AverageTemperatureUncertainty</th>\n",
              "    </tr>\n",
              "    <tr>\n",
              "      <th>year</th>\n",
              "      <th>City</th>\n",
              "      <th></th>\n",
              "      <th></th>\n",
              "    </tr>\n",
              "  </thead>\n",
              "  <tbody>\n",
              "    <tr>\n",
              "      <th rowspan=\"5\" valign=\"top\">1743</th>\n",
              "      <th>A Coruña</th>\n",
              "      <td>10.779</td>\n",
              "      <td>1.942</td>\n",
              "    </tr>\n",
              "    <tr>\n",
              "      <th>Aachen</th>\n",
              "      <td>6.425</td>\n",
              "      <td>1.628</td>\n",
              "    </tr>\n",
              "    <tr>\n",
              "      <th>Aalborg</th>\n",
              "      <td>6.068</td>\n",
              "      <td>1.737</td>\n",
              "    </tr>\n",
              "    <tr>\n",
              "      <th>Aberdeen</th>\n",
              "      <td>8.758</td>\n",
              "      <td>1.886</td>\n",
              "    </tr>\n",
              "    <tr>\n",
              "      <th>Aix En Provence</th>\n",
              "      <td>7.478</td>\n",
              "      <td>1.866</td>\n",
              "    </tr>\n",
              "  </tbody>\n",
              "</table>\n",
              "</div>\n",
              "      <button class=\"colab-df-convert\" onclick=\"convertToInteractive('df-412d9df9-c70d-4556-8235-4a0376e5dd2d')\"\n",
              "              title=\"Convert this dataframe to an interactive table.\"\n",
              "              style=\"display:none;\">\n",
              "        \n",
              "  <svg xmlns=\"http://www.w3.org/2000/svg\" height=\"24px\"viewBox=\"0 0 24 24\"\n",
              "       width=\"24px\">\n",
              "    <path d=\"M0 0h24v24H0V0z\" fill=\"none\"/>\n",
              "    <path d=\"M18.56 5.44l.94 2.06.94-2.06 2.06-.94-2.06-.94-.94-2.06-.94 2.06-2.06.94zm-11 1L8.5 8.5l.94-2.06 2.06-.94-2.06-.94L8.5 2.5l-.94 2.06-2.06.94zm10 10l.94 2.06.94-2.06 2.06-.94-2.06-.94-.94-2.06-.94 2.06-2.06.94z\"/><path d=\"M17.41 7.96l-1.37-1.37c-.4-.4-.92-.59-1.43-.59-.52 0-1.04.2-1.43.59L10.3 9.45l-7.72 7.72c-.78.78-.78 2.05 0 2.83L4 21.41c.39.39.9.59 1.41.59.51 0 1.02-.2 1.41-.59l7.78-7.78 2.81-2.81c.8-.78.8-2.07 0-2.86zM5.41 20L4 18.59l7.72-7.72 1.47 1.35L5.41 20z\"/>\n",
              "  </svg>\n",
              "      </button>\n",
              "      \n",
              "  <style>\n",
              "    .colab-df-container {\n",
              "      display:flex;\n",
              "      flex-wrap:wrap;\n",
              "      gap: 12px;\n",
              "    }\n",
              "\n",
              "    .colab-df-convert {\n",
              "      background-color: #E8F0FE;\n",
              "      border: none;\n",
              "      border-radius: 50%;\n",
              "      cursor: pointer;\n",
              "      display: none;\n",
              "      fill: #1967D2;\n",
              "      height: 32px;\n",
              "      padding: 0 0 0 0;\n",
              "      width: 32px;\n",
              "    }\n",
              "\n",
              "    .colab-df-convert:hover {\n",
              "      background-color: #E2EBFA;\n",
              "      box-shadow: 0px 1px 2px rgba(60, 64, 67, 0.3), 0px 1px 3px 1px rgba(60, 64, 67, 0.15);\n",
              "      fill: #174EA6;\n",
              "    }\n",
              "\n",
              "    [theme=dark] .colab-df-convert {\n",
              "      background-color: #3B4455;\n",
              "      fill: #D2E3FC;\n",
              "    }\n",
              "\n",
              "    [theme=dark] .colab-df-convert:hover {\n",
              "      background-color: #434B5C;\n",
              "      box-shadow: 0px 1px 3px 1px rgba(0, 0, 0, 0.15);\n",
              "      filter: drop-shadow(0px 1px 2px rgba(0, 0, 0, 0.3));\n",
              "      fill: #FFFFFF;\n",
              "    }\n",
              "  </style>\n",
              "\n",
              "      <script>\n",
              "        const buttonEl =\n",
              "          document.querySelector('#df-412d9df9-c70d-4556-8235-4a0376e5dd2d button.colab-df-convert');\n",
              "        buttonEl.style.display =\n",
              "          google.colab.kernel.accessAllowed ? 'block' : 'none';\n",
              "\n",
              "        async function convertToInteractive(key) {\n",
              "          const element = document.querySelector('#df-412d9df9-c70d-4556-8235-4a0376e5dd2d');\n",
              "          const dataTable =\n",
              "            await google.colab.kernel.invokeFunction('convertToInteractive',\n",
              "                                                     [key], {});\n",
              "          if (!dataTable) return;\n",
              "\n",
              "          const docLinkHtml = 'Like what you see? Visit the ' +\n",
              "            '<a target=\"_blank\" href=https://colab.research.google.com/notebooks/data_table.ipynb>data table notebook</a>'\n",
              "            + ' to learn more about interactive tables.';\n",
              "          element.innerHTML = '';\n",
              "          dataTable['output_type'] = 'display_data';\n",
              "          await google.colab.output.renderOutput(dataTable, element);\n",
              "          const docLink = document.createElement('div');\n",
              "          docLink.innerHTML = docLinkHtml;\n",
              "          element.appendChild(docLink);\n",
              "        }\n",
              "      </script>\n",
              "    </div>\n",
              "  </div>\n",
              "  "
            ]
          },
          "metadata": {},
          "execution_count": 33
        }
      ],
      "source": [
        "# Convertendo a coluna \"dt\" para dados de data\n",
        "dados['dt'] = pd.to_datetime(dados['dt'])\n",
        "\n",
        "# Extraindo o ano da coluna \"dt\" para realizarmos uma análise por ano\n",
        "dados[\"year\"] = dados[\"dt\"].dt.year\n",
        "\n",
        "## Aqui começa a análise exploratória de dados para descobrir padrões e tendências, primeiro\n",
        "## agrupando as temperaturas por ano e cidade\n",
        "dados_agrupados = dados.groupby([\"year\",\"City\"]).mean()\n",
        "\n",
        "dados_agrupados.head()"
      ]
    },
    {
      "cell_type": "code",
      "execution_count": 34,
      "metadata": {
        "id": "SFkhZMe-Cm7y"
      },
      "outputs": [],
      "source": [
        "## Vamos verificar quais ciadades podemos checar dentro desse conjunto de dados\n",
        "cidades = dados['City'].unique()"
      ]
    },
    {
      "cell_type": "markdown",
      "metadata": {
        "id": "8mRE_cFfCm70"
      },
      "source": [
        "## Análise de variação de temperatura entre as cidades"
      ]
    },
    {
      "cell_type": "code",
      "execution_count": 35,
      "metadata": {
        "id": "t952tUlYCm70"
      },
      "outputs": [],
      "source": [
        "## Queremos calcular a diferença de temperatura entre o ano mais recente e o ano mais antigo para cada \n",
        "## cidade. Para fazer isso, vamos utilizar o método .agg() do pandas para calcular a diferença entre o \n",
        "## valor mínimo e máximo da temperatura para cada cidade.\n",
        "\n",
        "dados_agrupados = dados.groupby([\"City\"]).agg({\"year\": [\"min\",\"max\"], \"AverageTemperature\": [\"min\",\"max\"]})\n",
        "\n"
      ]
    },
    {
      "cell_type": "code",
      "execution_count": 36,
      "metadata": {
        "id": "Yhd7mH5sCm71"
      },
      "outputs": [],
      "source": [
        "## Vamos calcular a diferença entre a temperatura mínima e máxima para cada cidade.\n",
        "dados_agrupados[\"dif\"] = dados_agrupados[\"AverageTemperature\"][\"max\"] - dados_agrupados[\"AverageTemperature\"][\"min\"]\n"
      ]
    },
    {
      "cell_type": "code",
      "execution_count": 37,
      "metadata": {
        "id": "IpqI8ea3Cm71"
      },
      "outputs": [],
      "source": [
        "## Vamos ordenar o dataframe pelo valor da diferença em ordem crescente\n",
        "dados_agrupados.sort_values(by=\"dif\",ascending=False,inplace=True)"
      ]
    },
    {
      "cell_type": "code",
      "execution_count": 38,
      "metadata": {
        "id": "5W0-GSHNCm72",
        "colab": {
          "base_uri": "https://localhost:8080/",
          "height": 426
        },
        "outputId": "e40e6bc4-77b3-4e09-aef0-f0be4765b5e7"
      },
      "outputs": [
        {
          "output_type": "execute_result",
          "data": {
            "text/plain": [
              "                 year       AverageTemperature             dif\n",
              "                  min   max                min     max        \n",
              "City                                                          \n",
              "Bratsk           1820  2013            -34.932  20.802  55.734\n",
              "Blagoveshchensk  1820  2013            -31.874  23.435  55.309\n",
              "Beian            1820  2013            -30.347  24.823  55.170\n",
              "Barnaul          1820  2013            -31.312  23.002  54.314\n",
              "Acheng           1820  2013            -29.341  24.833  54.174\n",
              "Chita            1820  2013            -34.273  19.074  53.347\n",
              "Anda             1820  2013            -26.772  26.509  53.281\n",
              "Abakan           1820  2013            -31.138  21.503  52.641\n",
              "Astana           1812  2013            -28.395  23.581  51.976\n",
              "Baoshan          1829  2013            -27.885  23.959  51.844"
            ],
            "text/html": [
              "\n",
              "  <div id=\"df-08d3dd78-715f-4bb7-9a3d-c2d2204e9541\">\n",
              "    <div class=\"colab-df-container\">\n",
              "      <div>\n",
              "<style scoped>\n",
              "    .dataframe tbody tr th:only-of-type {\n",
              "        vertical-align: middle;\n",
              "    }\n",
              "\n",
              "    .dataframe tbody tr th {\n",
              "        vertical-align: top;\n",
              "    }\n",
              "\n",
              "    .dataframe thead tr th {\n",
              "        text-align: left;\n",
              "    }\n",
              "\n",
              "    .dataframe thead tr:last-of-type th {\n",
              "        text-align: right;\n",
              "    }\n",
              "</style>\n",
              "<table border=\"1\" class=\"dataframe\">\n",
              "  <thead>\n",
              "    <tr>\n",
              "      <th></th>\n",
              "      <th colspan=\"2\" halign=\"left\">year</th>\n",
              "      <th colspan=\"2\" halign=\"left\">AverageTemperature</th>\n",
              "      <th>dif</th>\n",
              "    </tr>\n",
              "    <tr>\n",
              "      <th></th>\n",
              "      <th>min</th>\n",
              "      <th>max</th>\n",
              "      <th>min</th>\n",
              "      <th>max</th>\n",
              "      <th></th>\n",
              "    </tr>\n",
              "    <tr>\n",
              "      <th>City</th>\n",
              "      <th></th>\n",
              "      <th></th>\n",
              "      <th></th>\n",
              "      <th></th>\n",
              "      <th></th>\n",
              "    </tr>\n",
              "  </thead>\n",
              "  <tbody>\n",
              "    <tr>\n",
              "      <th>Bratsk</th>\n",
              "      <td>1820</td>\n",
              "      <td>2013</td>\n",
              "      <td>-34.932</td>\n",
              "      <td>20.802</td>\n",
              "      <td>55.734</td>\n",
              "    </tr>\n",
              "    <tr>\n",
              "      <th>Blagoveshchensk</th>\n",
              "      <td>1820</td>\n",
              "      <td>2013</td>\n",
              "      <td>-31.874</td>\n",
              "      <td>23.435</td>\n",
              "      <td>55.309</td>\n",
              "    </tr>\n",
              "    <tr>\n",
              "      <th>Beian</th>\n",
              "      <td>1820</td>\n",
              "      <td>2013</td>\n",
              "      <td>-30.347</td>\n",
              "      <td>24.823</td>\n",
              "      <td>55.170</td>\n",
              "    </tr>\n",
              "    <tr>\n",
              "      <th>Barnaul</th>\n",
              "      <td>1820</td>\n",
              "      <td>2013</td>\n",
              "      <td>-31.312</td>\n",
              "      <td>23.002</td>\n",
              "      <td>54.314</td>\n",
              "    </tr>\n",
              "    <tr>\n",
              "      <th>Acheng</th>\n",
              "      <td>1820</td>\n",
              "      <td>2013</td>\n",
              "      <td>-29.341</td>\n",
              "      <td>24.833</td>\n",
              "      <td>54.174</td>\n",
              "    </tr>\n",
              "    <tr>\n",
              "      <th>Chita</th>\n",
              "      <td>1820</td>\n",
              "      <td>2013</td>\n",
              "      <td>-34.273</td>\n",
              "      <td>19.074</td>\n",
              "      <td>53.347</td>\n",
              "    </tr>\n",
              "    <tr>\n",
              "      <th>Anda</th>\n",
              "      <td>1820</td>\n",
              "      <td>2013</td>\n",
              "      <td>-26.772</td>\n",
              "      <td>26.509</td>\n",
              "      <td>53.281</td>\n",
              "    </tr>\n",
              "    <tr>\n",
              "      <th>Abakan</th>\n",
              "      <td>1820</td>\n",
              "      <td>2013</td>\n",
              "      <td>-31.138</td>\n",
              "      <td>21.503</td>\n",
              "      <td>52.641</td>\n",
              "    </tr>\n",
              "    <tr>\n",
              "      <th>Astana</th>\n",
              "      <td>1812</td>\n",
              "      <td>2013</td>\n",
              "      <td>-28.395</td>\n",
              "      <td>23.581</td>\n",
              "      <td>51.976</td>\n",
              "    </tr>\n",
              "    <tr>\n",
              "      <th>Baoshan</th>\n",
              "      <td>1829</td>\n",
              "      <td>2013</td>\n",
              "      <td>-27.885</td>\n",
              "      <td>23.959</td>\n",
              "      <td>51.844</td>\n",
              "    </tr>\n",
              "  </tbody>\n",
              "</table>\n",
              "</div>\n",
              "      <button class=\"colab-df-convert\" onclick=\"convertToInteractive('df-08d3dd78-715f-4bb7-9a3d-c2d2204e9541')\"\n",
              "              title=\"Convert this dataframe to an interactive table.\"\n",
              "              style=\"display:none;\">\n",
              "        \n",
              "  <svg xmlns=\"http://www.w3.org/2000/svg\" height=\"24px\"viewBox=\"0 0 24 24\"\n",
              "       width=\"24px\">\n",
              "    <path d=\"M0 0h24v24H0V0z\" fill=\"none\"/>\n",
              "    <path d=\"M18.56 5.44l.94 2.06.94-2.06 2.06-.94-2.06-.94-.94-2.06-.94 2.06-2.06.94zm-11 1L8.5 8.5l.94-2.06 2.06-.94-2.06-.94L8.5 2.5l-.94 2.06-2.06.94zm10 10l.94 2.06.94-2.06 2.06-.94-2.06-.94-.94-2.06-.94 2.06-2.06.94z\"/><path d=\"M17.41 7.96l-1.37-1.37c-.4-.4-.92-.59-1.43-.59-.52 0-1.04.2-1.43.59L10.3 9.45l-7.72 7.72c-.78.78-.78 2.05 0 2.83L4 21.41c.39.39.9.59 1.41.59.51 0 1.02-.2 1.41-.59l7.78-7.78 2.81-2.81c.8-.78.8-2.07 0-2.86zM5.41 20L4 18.59l7.72-7.72 1.47 1.35L5.41 20z\"/>\n",
              "  </svg>\n",
              "      </button>\n",
              "      \n",
              "  <style>\n",
              "    .colab-df-container {\n",
              "      display:flex;\n",
              "      flex-wrap:wrap;\n",
              "      gap: 12px;\n",
              "    }\n",
              "\n",
              "    .colab-df-convert {\n",
              "      background-color: #E8F0FE;\n",
              "      border: none;\n",
              "      border-radius: 50%;\n",
              "      cursor: pointer;\n",
              "      display: none;\n",
              "      fill: #1967D2;\n",
              "      height: 32px;\n",
              "      padding: 0 0 0 0;\n",
              "      width: 32px;\n",
              "    }\n",
              "\n",
              "    .colab-df-convert:hover {\n",
              "      background-color: #E2EBFA;\n",
              "      box-shadow: 0px 1px 2px rgba(60, 64, 67, 0.3), 0px 1px 3px 1px rgba(60, 64, 67, 0.15);\n",
              "      fill: #174EA6;\n",
              "    }\n",
              "\n",
              "    [theme=dark] .colab-df-convert {\n",
              "      background-color: #3B4455;\n",
              "      fill: #D2E3FC;\n",
              "    }\n",
              "\n",
              "    [theme=dark] .colab-df-convert:hover {\n",
              "      background-color: #434B5C;\n",
              "      box-shadow: 0px 1px 3px 1px rgba(0, 0, 0, 0.15);\n",
              "      filter: drop-shadow(0px 1px 2px rgba(0, 0, 0, 0.3));\n",
              "      fill: #FFFFFF;\n",
              "    }\n",
              "  </style>\n",
              "\n",
              "      <script>\n",
              "        const buttonEl =\n",
              "          document.querySelector('#df-08d3dd78-715f-4bb7-9a3d-c2d2204e9541 button.colab-df-convert');\n",
              "        buttonEl.style.display =\n",
              "          google.colab.kernel.accessAllowed ? 'block' : 'none';\n",
              "\n",
              "        async function convertToInteractive(key) {\n",
              "          const element = document.querySelector('#df-08d3dd78-715f-4bb7-9a3d-c2d2204e9541');\n",
              "          const dataTable =\n",
              "            await google.colab.kernel.invokeFunction('convertToInteractive',\n",
              "                                                     [key], {});\n",
              "          if (!dataTable) return;\n",
              "\n",
              "          const docLinkHtml = 'Like what you see? Visit the ' +\n",
              "            '<a target=\"_blank\" href=https://colab.research.google.com/notebooks/data_table.ipynb>data table notebook</a>'\n",
              "            + ' to learn more about interactive tables.';\n",
              "          element.innerHTML = '';\n",
              "          dataTable['output_type'] = 'display_data';\n",
              "          await google.colab.output.renderOutput(dataTable, element);\n",
              "          const docLink = document.createElement('div');\n",
              "          docLink.innerHTML = docLinkHtml;\n",
              "          element.appendChild(docLink);\n",
              "        }\n",
              "      </script>\n",
              "    </div>\n",
              "  </div>\n",
              "  "
            ]
          },
          "metadata": {},
          "execution_count": 38
        }
      ],
      "source": [
        "## Selecionamos as cidades com maiores diferenças de temperaturas\n",
        "top_cities = dados_agrupados.head(10)\n",
        "top_cities"
      ]
    },
    {
      "cell_type": "code",
      "source": [
        "# Armazenando o tempo de término\n",
        "end_time = time.time()\n",
        "\n",
        "# Calculando o tempo total de execução\n",
        "execution_time = end_time - start_time\n",
        "\n",
        "# Exibindo o tempo total de execução\n",
        "print(\"Tempo de execução: {:.2f} segundos\".format(execution_time))"
      ],
      "metadata": {
        "id": "Nvg949Dvs4Gl",
        "colab": {
          "base_uri": "https://localhost:8080/"
        },
        "outputId": "04926ce9-d1b3-4435-987f-66e24205bc92"
      },
      "execution_count": 39,
      "outputs": [
        {
          "output_type": "stream",
          "name": "stdout",
          "text": [
            "Tempo de execução: 4.98 segundos\n"
          ]
        }
      ]
    }
  ]
}