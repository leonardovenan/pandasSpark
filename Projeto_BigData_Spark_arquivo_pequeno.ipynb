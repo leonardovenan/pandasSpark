{
  "nbformat": 4,
  "nbformat_minor": 0,
  "metadata": {
    "colab": {
      "provenance": []
    },
    "kernelspec": {
      "name": "python3",
      "display_name": "Python 3"
    },
    "language_info": {
      "name": "python"
    }
  },
  "cells": [
    {
      "cell_type": "code",
      "execution_count": 1,
      "metadata": {
        "id": "qyyFPWdAu3Cj"
      },
      "outputs": [],
      "source": [
        "from pyspark.sql import SparkSession\n",
        "from pyspark.sql.functions import to_date\n",
        "from pyspark.sql.functions import year\n",
        "from pyspark.sql.functions import expr\n",
        "from pyspark.sql.functions import col\n",
        "\n",
        "import pandas as pd\n",
        "import time"
      ]
    },
    {
      "cell_type": "code",
      "source": [
        "# Armazenando o tempo de início\n",
        "start_time = time.time()"
      ],
      "metadata": {
        "id": "EpRFrfqlBH7B"
      },
      "execution_count": 2,
      "outputs": []
    },
    {
      "cell_type": "code",
      "source": [
        "# Iniciando uma sessão do Spark\n",
        "spark = SparkSession.builder.appName(\"Temperatura_Media\").getOrCreate()"
      ],
      "metadata": {
        "id": "JBjBucvdvJKa"
      },
      "execution_count": 3,
      "outputs": []
    },
    {
      "cell_type": "code",
      "source": [
        "# Carregando o arquivo CSV como um DataFrame do Spark\n",
        "dados = spark.read.csv(\"GlobalLandTemperaturesByState.csv\", header=True, sep=\",\")"
      ],
      "metadata": {
        "id": "AVupfGBTvJw-"
      },
      "execution_count": 4,
      "outputs": []
    },
    {
      "cell_type": "code",
      "source": [
        "# Verificando o formato dos dados\n",
        "dados.show(5)"
      ],
      "metadata": {
        "colab": {
          "base_uri": "https://localhost:8080/"
        },
        "id": "qFXKKIz0vTQs",
        "outputId": "e6d0d6d3-27ec-440a-8fa1-7a8aca3ffd59"
      },
      "execution_count": 5,
      "outputs": [
        {
          "output_type": "stream",
          "name": "stdout",
          "text": [
            "+----------+------------------+-----------------------------+-----+-------+\n",
            "|        dt|AverageTemperature|AverageTemperatureUncertainty|State|Country|\n",
            "+----------+------------------+-----------------------------+-----+-------+\n",
            "|1855-05-01|            25.544|                        1.171| Acre| Brazil|\n",
            "|1855-06-01|            24.228|                        1.103| Acre| Brazil|\n",
            "|1855-07-01|            24.371|                        1.044| Acre| Brazil|\n",
            "|1855-08-01|            25.427|                        1.073| Acre| Brazil|\n",
            "|1855-09-01|            25.675|                        1.014| Acre| Brazil|\n",
            "+----------+------------------+-----------------------------+-----+-------+\n",
            "only showing top 5 rows\n",
            "\n"
          ]
        }
      ]
    },
    {
      "cell_type": "code",
      "source": [
        "# Removendo linhas com valores ausentes\n",
        "dados = dados.na.drop()"
      ],
      "metadata": {
        "id": "qPQ7fgGPvT2Z"
      },
      "execution_count": 6,
      "outputs": []
    },
    {
      "cell_type": "code",
      "source": [
        "dados.show(10)"
      ],
      "metadata": {
        "colab": {
          "base_uri": "https://localhost:8080/"
        },
        "id": "-elMLU4yw6ZD",
        "outputId": "0bf88d27-be5e-46d6-8def-f43276ebf3c6"
      },
      "execution_count": 7,
      "outputs": [
        {
          "output_type": "stream",
          "name": "stdout",
          "text": [
            "+----------+------------------+-----------------------------+-----+-------+\n",
            "|        dt|AverageTemperature|AverageTemperatureUncertainty|State|Country|\n",
            "+----------+------------------+-----------------------------+-----+-------+\n",
            "|1855-05-01|            25.544|                        1.171| Acre| Brazil|\n",
            "|1855-06-01|            24.228|                        1.103| Acre| Brazil|\n",
            "|1855-07-01|            24.371|                        1.044| Acre| Brazil|\n",
            "|1855-08-01|            25.427|                        1.073| Acre| Brazil|\n",
            "|1855-09-01|            25.675|                        1.014| Acre| Brazil|\n",
            "|1855-10-01|25.441999999999997|                        1.179| Acre| Brazil|\n",
            "|1855-11-01|              25.4|                        1.064| Acre| Brazil|\n",
            "|1855-12-01|              24.1|           1.7180000000000002| Acre| Brazil|\n",
            "|1856-01-01|            25.814|                        1.159| Acre| Brazil|\n",
            "|1856-02-01|            24.658|                        1.147| Acre| Brazil|\n",
            "+----------+------------------+-----------------------------+-----+-------+\n",
            "only showing top 10 rows\n",
            "\n"
          ]
        }
      ]
    },
    {
      "cell_type": "code",
      "source": [
        "# Convertendo a coluna \"dt\" para dados\n",
        "dados = dados.withColumn(\"dt\", to_date(dados[\"dt\"], \"yyyy-MM-dd\"))"
      ],
      "metadata": {
        "id": "3inA4vqbvXIR"
      },
      "execution_count": 8,
      "outputs": []
    },
    {
      "cell_type": "code",
      "source": [
        "# Passando a coluna AverageTemperature para dados numéricos\n",
        "from pyspark.sql.functions import col\n",
        "\n",
        "try:\n",
        "    dados = dados.withColumn(\"AverageTemperature_numeric\", col(\"AverageTemperature\").cast(\"double\"))\n",
        "except:\n",
        "    print(\"col is not numeric\")\n",
        "\n",
        "dados.show()"
      ],
      "metadata": {
        "colab": {
          "base_uri": "https://localhost:8080/"
        },
        "id": "bSbC7BlZxQqG",
        "outputId": "56ac2676-3980-4098-cec0-60de6f9e10f2"
      },
      "execution_count": 9,
      "outputs": [
        {
          "output_type": "stream",
          "name": "stdout",
          "text": [
            "+----------+------------------+-----------------------------+-----+-------+--------------------------+\n",
            "|        dt|AverageTemperature|AverageTemperatureUncertainty|State|Country|AverageTemperature_numeric|\n",
            "+----------+------------------+-----------------------------+-----+-------+--------------------------+\n",
            "|1855-05-01|            25.544|                        1.171| Acre| Brazil|                    25.544|\n",
            "|1855-06-01|            24.228|                        1.103| Acre| Brazil|                    24.228|\n",
            "|1855-07-01|            24.371|                        1.044| Acre| Brazil|                    24.371|\n",
            "|1855-08-01|            25.427|                        1.073| Acre| Brazil|                    25.427|\n",
            "|1855-09-01|            25.675|                        1.014| Acre| Brazil|                    25.675|\n",
            "|1855-10-01|25.441999999999997|                        1.179| Acre| Brazil|        25.441999999999997|\n",
            "|1855-11-01|              25.4|                        1.064| Acre| Brazil|                      25.4|\n",
            "|1855-12-01|              24.1|           1.7180000000000002| Acre| Brazil|                      24.1|\n",
            "|1856-01-01|            25.814|                        1.159| Acre| Brazil|                    25.814|\n",
            "|1856-02-01|            24.658|                        1.147| Acre| Brazil|                    24.658|\n",
            "|1856-03-01|24.659000000000002|                        1.547| Acre| Brazil|        24.659000000000002|\n",
            "|1856-04-01|24.906999999999996|                        1.186| Acre| Brazil|        24.906999999999996|\n",
            "|1856-05-01|24.418000000000003|                        1.168| Acre| Brazil|        24.418000000000003|\n",
            "|1856-06-01|             24.93|                        1.355| Acre| Brazil|                     24.93|\n",
            "|1856-08-01|            24.615|                        1.053| Acre| Brazil|                    24.615|\n",
            "|1856-09-01|             25.15|                        1.093| Acre| Brazil|                     25.15|\n",
            "|1856-10-01|25.195999999999998|                        1.048| Acre| Brazil|        25.195999999999998|\n",
            "|1856-11-01|            25.441|                        1.102| Acre| Brazil|                    25.441|\n",
            "|1856-12-01|            25.362|                        1.382| Acre| Brazil|                    25.362|\n",
            "|1873-01-01|            25.725|                        1.148| Acre| Brazil|                    25.725|\n",
            "+----------+------------------+-----------------------------+-----+-------+--------------------------+\n",
            "only showing top 20 rows\n",
            "\n"
          ]
        }
      ]
    },
    {
      "cell_type": "code",
      "source": [
        "# Extraindo o ano da coluna \"dt\"\n",
        "dados = dados.withColumn(\"year\", year(dados[\"dt\"]))"
      ],
      "metadata": {
        "id": "fkuGOIbtvaHS"
      },
      "execution_count": 10,
      "outputs": []
    },
    {
      "cell_type": "code",
      "source": [
        "# Agrupando as temperaturas por ano e cidade\n",
        "dados_agrupados = dados.groupBy([\"year\", \"State\"]).mean(\"AverageTemperature_numeric\")\n",
        "dados_agrupados.show(5)"
      ],
      "metadata": {
        "colab": {
          "base_uri": "https://localhost:8080/"
        },
        "id": "hMQkS2Ivvdux",
        "outputId": "a189b29b-50b0-4c78-aa0c-cf8e538e4cd2"
      },
      "execution_count": 11,
      "outputs": [
        {
          "output_type": "stream",
          "name": "stdout",
          "text": [
            "+----+-------+-------------------------------+\n",
            "|year|  State|avg(AverageTemperature_numeric)|\n",
            "+----+-------+-------------------------------+\n",
            "|1825| Adygey|              9.383166666666666|\n",
            "|2005| Adygey|                       11.46325|\n",
            "|1751|Alabama|                        18.3635|\n",
            "|1870|Alabama|              16.72216666666667|\n",
            "|1881|Alabama|              17.61691666666667|\n",
            "+----+-------+-------------------------------+\n",
            "only showing top 5 rows\n",
            "\n"
          ]
        }
      ]
    },
    {
      "cell_type": "code",
      "source": [
        "# Obtendo as cidades únicas\n",
        "estados = dados.select(\"State\").distinct().rdd.flatMap(lambda x: x).collect()\n",
        "print(estados)\n"
      ],
      "metadata": {
        "colab": {
          "base_uri": "https://localhost:8080/"
        },
        "id": "bHxxm_umvlkR",
        "outputId": "be030623-519a-4f80-edd8-13398cb07973"
      },
      "execution_count": 12,
      "outputs": [
        {
          "output_type": "stream",
          "name": "stdout",
          "text": [
            "['Bryansk', 'Hawaii', 'Manitoba', 'Kostroma', 'Nagaland', 'Karnataka', 'Belgorod', 'Guangdong', 'Minnesota', 'Kursk', 'Hunan', 'Kerala', 'Kaluga', 'Hubei', 'Kamchatka', 'Lipetsk', 'Beijing', 'Arkansas', 'Chita', 'Dagestan', 'Chhattisgarh', 'District Of Columbia', 'Andhra Pradesh', 'Georgia (State)', 'Madhya Pradesh', 'Mato Grosso', 'Kalmyk', 'Khakass', 'Kurgan', 'Mariy El', 'Andaman And Nicobar', 'Buryat', 'Krasnodar', 'Leningrad', 'Manipur', 'Connecticut', 'Nebraska', 'Heilongjiang', 'Chuvash', 'Daman And Diu', 'Alberta', 'Goa', 'Karachay Cherkess', 'Liaoning', 'Henan', 'Nevada', 'Mizoram', 'Australian Capital Territory', 'Anhui', 'Illinois', 'Alagoas', 'Mordovia', 'Fujian', 'Koryak', 'Bahia', 'Jiangxi', 'Jilin', 'Chongqing', 'Distrito Federal', 'New Brunswick', 'Himachal Pradesh', 'Ingush', 'Delaware', 'Haryana', 'Alaska', 'Jharkhand', 'Amazonas', 'Arunachal Pradesh', 'Chelyabinsk', 'Moskva', 'Acre', 'Gujarat', 'Mato Grosso Do Sul', 'Maga Buryatdan', 'Missouri', 'Gorno Altay', 'Komi Permyak', 'Chechnya', 'Montana', 'Michigan', 'British Columbia', 'Nenets', 'Delhi', 'Kansas', 'Krasnoyarsk', 'New Jersey', 'Karelia', 'Kabardin Balkar', 'Maryland', 'Alabama', 'Chandigarh', 'Aga Buryat', 'Arizona', 'Khanty Mansiy', 'Komi', 'Amur', 'Kemerovo', 'Khabarovsk', 'Assam', 'Iowa', 'City Of St. Petersburg', 'Bashkortostan', 'Gansu', 'Kaliningrad', 'Massachusetts', \"Astrakhan'\", 'Hainan', 'Kentucky', 'Nei Mongol', 'Kirov', 'Minas Gerais', 'Guangxi', 'Jammu And Kashmir', 'Louisiana', 'Mississippi', 'Chukot', 'New Hampshire', 'Dadra And Nagar Haveli', 'Florida', 'Guizhou', 'Indiana', 'Adygey', 'Moscow City', 'Meghalaya', 'Idaho', 'Maharashtra', 'Bihar', 'Irkutsk', 'California', 'Evenk', 'Hebei', 'Murmansk', 'Ivanovo', 'Altay', \"Arkhangel'Sk\", 'Jiangsu', 'Colorado', 'Maine', 'Utah', 'Volgograd', 'Voronezh', 'Omsk', 'Santa Catarina', 'Ohio', 'Shanxi', 'Tamil Nadu', 'Yukon', 'Tianjin', 'Northern Territory', 'Oregon', 'Tatarstan', 'Novgorod', \"Perm'\", 'Punjab', 'Texas', 'Nova Scotia', 'South Australia', 'Tomsk', \"Primor'Ye\", 'Victoria', 'Western Australia', 'North Dakota', 'Northwest Territories', 'Pennsylvania', 'Vladimir', 'North Ossetia', \"Ryazan'\", 'Vermont', 'Samara', 'Nunavut', 'Rostov', 'Taymyr', \"Yaroslavl'\", 'New South Wales', 'Tambov', \"Ul'Yanovsk\", 'Washington', 'Ust Orda Buryat', 'Oklahoma', 'Smolensk', 'Roraima', 'Xinjiang Uygur', 'Shaanxi', 'Sichuan', 'Vologda', 'Puducherry', 'Saskatchewan', 'Tula', 'Prince Edward Island', \"Tyumen'\", 'Orissa', 'Pernambuco', 'Udmurt', 'Ningxia Hui', 'Sakha', 'Yamal Nenets', 'New Mexico', 'West Virginia', 'Ontario', \"Tver'\", 'Rhode Island', 'Tuva', 'Rio Grande Do Norte', 'Sergipe', 'Uttaranchal', 'Virginia', 'Yunnan', 'Penza', 'Sikkim', 'North Carolina', 'Wyoming', 'Xizang', 'Sakhalin', 'Orel', 'Pskov', 'Sverdlovsk', 'Rio Grande Do Sul', 'Rajasthan', 'Yevrey', 'Newfoundland And Labrador', 'Orenburg', 'Tennessee', 'Tocantins', 'Novosibirsk', 'Saratov', 'Tasmania', 'Zhejiang', 'Queensland', 'Shandong', 'South Carolina', 'West Bengal', \"Stavropol'\", 'South Dakota', 'New York', 'Nizhegorod', 'Rio De Janeiro', 'Tripura', 'Qinghai', 'Uttar Pradesh', 'Wisconsin', 'Shanghai']\n"
          ]
        }
      ]
    },
    {
      "cell_type": "code",
      "source": [
        "from pyspark.sql.functions import max, min\n",
        "\n",
        "# Agrupando as temperaturas por cidade e calcular a temperatura máxima e mínima\n",
        "dados_agrupados = dados.groupBy(\"State\").agg(max(\"AverageTemperature_numeric\").alias(\"max_temp\"),\n",
        "                                            min(\"AverageTemperature_numeric\").alias(\"min_temp\"))\n",
        "\n",
        "# Calculando a diferença entre as temperaturas máxima e mínima\n",
        "dados_diferenca = dados_agrupados.withColumn(\"diferenca_temp\", expr(\"max_temp - min_temp\"))\n",
        "\n",
        "# Selecionando as colunas \"City\" e \"diferenca_temp\"\n",
        "dados_final = dados_diferenca.select(\"State\", \"diferenca_temp\")\n",
        "\n",
        "# Exibindo os resultados\n",
        "dados_final.show()\n"
      ],
      "metadata": {
        "id": "nPTr9-vdvvXa",
        "colab": {
          "base_uri": "https://localhost:8080/"
        },
        "outputId": "6ab6792d-802c-4ec0-a29c-044b20cda14e"
      },
      "execution_count": 13,
      "outputs": [
        {
          "output_type": "stream",
          "name": "stdout",
          "text": [
            "+---------+------------------+\n",
            "|    State|    diferenca_temp|\n",
            "+---------+------------------+\n",
            "|  Bryansk|            42.665|\n",
            "|   Hawaii| 6.640000000000001|\n",
            "| Manitoba|51.946000000000005|\n",
            "| Kostroma|            46.388|\n",
            "| Nagaland|            15.428|\n",
            "|Karnataka|10.232999999999997|\n",
            "| Belgorod|43.644000000000005|\n",
            "|Guangdong|21.157000000000004|\n",
            "|Minnesota|             47.94|\n",
            "|    Kursk|            43.453|\n",
            "|    Hunan|             28.87|\n",
            "|   Kerala|7.2769999999999975|\n",
            "|   Kaluga|44.031000000000006|\n",
            "|    Hubei|30.555999999999997|\n",
            "|Kamchatka|34.623999999999995|\n",
            "|  Lipetsk|            45.458|\n",
            "|  Beijing|39.629000000000005|\n",
            "| Arkansas|            33.009|\n",
            "|    Chita|             55.96|\n",
            "| Dagestan|            35.495|\n",
            "+---------+------------------+\n",
            "only showing top 20 rows\n",
            "\n"
          ]
        }
      ]
    },
    {
      "cell_type": "code",
      "source": [
        "# Ordenando o DataFrame em ordem crescente de acordo com a coluna \"diferenca_temp\"\n",
        "dados_final = dados_final.sort(col(\"diferenca_temp\").desc())\n",
        "\n",
        "# Exibindo os resultados\n",
        "dados_final.show()\n"
      ],
      "metadata": {
        "id": "FQ4I46HJvwds",
        "colab": {
          "base_uri": "https://localhost:8080/"
        },
        "outputId": "b6cd30f5-15c5-4e6b-9140-e25408d267b7"
      },
      "execution_count": 14,
      "outputs": [
        {
          "output_type": "stream",
          "name": "stdout",
          "text": [
            "+---------------+------------------+\n",
            "|          State|    diferenca_temp|\n",
            "+---------------+------------------+\n",
            "|          Sakha|63.041999999999994|\n",
            "|          Evenk|61.961000000000006|\n",
            "|           Amur|57.096000000000004|\n",
            "|         Taymyr|            56.369|\n",
            "| Maga Buryatdan|            56.329|\n",
            "|           Tuva| 56.19799999999999|\n",
            "|        Irkutsk| 56.04600000000001|\n",
            "|          Chita|             55.96|\n",
            "|     Khabarovsk|            55.447|\n",
            "|          Tomsk|            54.813|\n",
            "|    Krasnoyarsk|            54.443|\n",
            "|    Novosibirsk|54.028000000000006|\n",
            "|         Yevrey|53.778999999999996|\n",
            "|         Buryat|53.748000000000005|\n",
            "|     Aga Buryat|53.668000000000006|\n",
            "|Ust Orda Buryat|            53.592|\n",
            "|   Heilongjiang|53.162000000000006|\n",
            "|           Omsk|52.995999999999995|\n",
            "|          Altay|            52.906|\n",
            "|   Saskatchewan|            52.723|\n",
            "+---------------+------------------+\n",
            "only showing top 20 rows\n",
            "\n"
          ]
        }
      ]
    },
    {
      "cell_type": "code",
      "source": [
        "# Criando um novo DataFrame com apenas as 10 primeiras linhas de \"dados_final\"\n",
        "top_states = dados_final.limit(10)\n",
        "\n",
        "# Exibindo o novo DataFrame\n",
        "top_states.show()"
      ],
      "metadata": {
        "colab": {
          "base_uri": "https://localhost:8080/"
        },
        "id": "9Ns1w_q23rzc",
        "outputId": "ee15e132-251f-4e88-8f45-4f93d6a853eb"
      },
      "execution_count": 15,
      "outputs": [
        {
          "output_type": "stream",
          "name": "stdout",
          "text": [
            "+--------------+------------------+\n",
            "|         State|    diferenca_temp|\n",
            "+--------------+------------------+\n",
            "|         Sakha|63.041999999999994|\n",
            "|         Evenk|61.961000000000006|\n",
            "|          Amur|57.096000000000004|\n",
            "|        Taymyr|            56.369|\n",
            "|Maga Buryatdan|            56.329|\n",
            "|          Tuva| 56.19799999999999|\n",
            "|       Irkutsk| 56.04600000000001|\n",
            "|         Chita|             55.96|\n",
            "|    Khabarovsk|            55.447|\n",
            "|         Tomsk|            54.813|\n",
            "+--------------+------------------+\n",
            "\n"
          ]
        }
      ]
    },
    {
      "cell_type": "code",
      "source": [
        "# Armazenando o tempo de término\n",
        "end_time = time.time()\n",
        "\n",
        "# Calculando o tempo total de execução\n",
        "execution_time = end_time - start_time\n",
        "\n",
        "# Exibindo o tempo total de execução\n",
        "print(\"Tempo de execução: {:.2f} segundos\".format(execution_time))"
      ],
      "metadata": {
        "colab": {
          "base_uri": "https://localhost:8080/"
        },
        "id": "qoozjlg5BPVI",
        "outputId": "f5d60c78-efa7-4815-b920-de368fc4cbb5"
      },
      "execution_count": 16,
      "outputs": [
        {
          "output_type": "stream",
          "name": "stdout",
          "text": [
            "Tempo de execução: 47.82 segundos\n"
          ]
        }
      ]
    },
    {
      "cell_type": "code",
      "source": [],
      "metadata": {
        "id": "lVARbqmNM1Rp"
      },
      "execution_count": 16,
      "outputs": []
    }
  ]
}