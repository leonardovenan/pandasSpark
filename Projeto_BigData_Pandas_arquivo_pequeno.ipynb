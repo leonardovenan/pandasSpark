{
  "nbformat": 4,
  "nbformat_minor": 0,
  "metadata": {
    "colab": {
      "provenance": []
    },
    "kernelspec": {
      "name": "python3",
      "display_name": "Python 3"
    },
    "language_info": {
      "name": "python"
    }
  },
  "cells": [
    {
      "cell_type": "code",
      "execution_count": 14,
      "metadata": {
        "id": "8qmonQ1NSC7J"
      },
      "outputs": [],
      "source": [
        "import pandas as pd\n",
        "import numpy as np\n",
        "import time"
      ]
    },
    {
      "cell_type": "markdown",
      "metadata": {
        "id": "q0AjDss3Cm7s"
      },
      "source": [
        "## Gráficos que mostram a evolução da temperatura média entre as cidades"
      ]
    },
    {
      "cell_type": "code",
      "source": [
        "# Armazenando o tempo de início\n",
        "start_time = time.time()"
      ],
      "metadata": {
        "id": "WM110PKYCK1W"
      },
      "execution_count": 15,
      "outputs": []
    },
    {
      "cell_type": "code",
      "execution_count": 16,
      "metadata": {
        "id": "M7UqaCNOCm7u",
        "colab": {
          "base_uri": "https://localhost:8080/"
        },
        "outputId": "7071e9fc-9477-40fb-8b5b-d45c4afa55ec"
      },
      "outputs": [
        {
          "output_type": "stream",
          "name": "stdout",
          "text": [
            "           dt  AverageTemperature  AverageTemperatureUncertainty State Country\n",
            "0  1855-05-01              25.544                          1.171  Acre  Brazil\n",
            "1  1855-06-01              24.228                          1.103  Acre  Brazil\n",
            "2  1855-07-01              24.371                          1.044  Acre  Brazil\n",
            "3  1855-08-01              25.427                          1.073  Acre  Brazil\n",
            "4  1855-09-01              25.675                          1.014  Acre  Brazil\n"
          ]
        }
      ],
      "source": [
        "dados = pd.read_csv(\"GlobalLandTemperaturesByState.csv\", sep=\",\")\n",
        "print(dados.head())"
      ]
    },
    {
      "cell_type": "code",
      "execution_count": 17,
      "metadata": {
        "id": "Q0iIfP0GCm7w",
        "colab": {
          "base_uri": "https://localhost:8080/"
        },
        "outputId": "7f8e78d5-2016-4f4a-d3fd-f62e549bea5a"
      },
      "outputs": [
        {
          "output_type": "stream",
          "name": "stdout",
          "text": [
            "           dt  AverageTemperature  AverageTemperatureUncertainty State Country\n",
            "0  1855-05-01              25.544                          1.171  Acre  Brazil\n",
            "1  1855-06-01              24.228                          1.103  Acre  Brazil\n",
            "2  1855-07-01              24.371                          1.044  Acre  Brazil\n",
            "3  1855-08-01              25.427                          1.073  Acre  Brazil\n",
            "4  1855-09-01              25.675                          1.014  Acre  Brazil\n"
          ]
        }
      ],
      "source": [
        "## Limpeza dos dados utilizando o método .dropna() para remover linhas com valores ausentes \n",
        "dados.dropna(inplace=True)\n",
        "\n",
        "print(dados.head())\n",
        "\n"
      ]
    },
    {
      "cell_type": "code",
      "execution_count": 18,
      "metadata": {
        "id": "UxsRwJOiCm7x",
        "colab": {
          "base_uri": "https://localhost:8080/",
          "height": 238
        },
        "outputId": "f84705d0-ee06-4bd4-9146-8a602246794d"
      },
      "outputs": [
        {
          "output_type": "execute_result",
          "data": {
            "text/plain": [
              "                   AverageTemperature  AverageTemperatureUncertainty\n",
              "year State                                                          \n",
              "1743 Adygey                     4.537                          2.943\n",
              "     Alabama                   10.722                          2.898\n",
              "     Arkhangel'Sk              -8.008                          4.031\n",
              "     Belgorod                  -0.910                          3.465\n",
              "     Bryansk                   -0.707                          2.956"
            ],
            "text/html": [
              "\n",
              "  <div id=\"df-d53864c7-67a6-4f46-9645-a67c77fd78ab\">\n",
              "    <div class=\"colab-df-container\">\n",
              "      <div>\n",
              "<style scoped>\n",
              "    .dataframe tbody tr th:only-of-type {\n",
              "        vertical-align: middle;\n",
              "    }\n",
              "\n",
              "    .dataframe tbody tr th {\n",
              "        vertical-align: top;\n",
              "    }\n",
              "\n",
              "    .dataframe thead th {\n",
              "        text-align: right;\n",
              "    }\n",
              "</style>\n",
              "<table border=\"1\" class=\"dataframe\">\n",
              "  <thead>\n",
              "    <tr style=\"text-align: right;\">\n",
              "      <th></th>\n",
              "      <th></th>\n",
              "      <th>AverageTemperature</th>\n",
              "      <th>AverageTemperatureUncertainty</th>\n",
              "    </tr>\n",
              "    <tr>\n",
              "      <th>year</th>\n",
              "      <th>State</th>\n",
              "      <th></th>\n",
              "      <th></th>\n",
              "    </tr>\n",
              "  </thead>\n",
              "  <tbody>\n",
              "    <tr>\n",
              "      <th rowspan=\"5\" valign=\"top\">1743</th>\n",
              "      <th>Adygey</th>\n",
              "      <td>4.537</td>\n",
              "      <td>2.943</td>\n",
              "    </tr>\n",
              "    <tr>\n",
              "      <th>Alabama</th>\n",
              "      <td>10.722</td>\n",
              "      <td>2.898</td>\n",
              "    </tr>\n",
              "    <tr>\n",
              "      <th>Arkhangel'Sk</th>\n",
              "      <td>-8.008</td>\n",
              "      <td>4.031</td>\n",
              "    </tr>\n",
              "    <tr>\n",
              "      <th>Belgorod</th>\n",
              "      <td>-0.910</td>\n",
              "      <td>3.465</td>\n",
              "    </tr>\n",
              "    <tr>\n",
              "      <th>Bryansk</th>\n",
              "      <td>-0.707</td>\n",
              "      <td>2.956</td>\n",
              "    </tr>\n",
              "  </tbody>\n",
              "</table>\n",
              "</div>\n",
              "      <button class=\"colab-df-convert\" onclick=\"convertToInteractive('df-d53864c7-67a6-4f46-9645-a67c77fd78ab')\"\n",
              "              title=\"Convert this dataframe to an interactive table.\"\n",
              "              style=\"display:none;\">\n",
              "        \n",
              "  <svg xmlns=\"http://www.w3.org/2000/svg\" height=\"24px\"viewBox=\"0 0 24 24\"\n",
              "       width=\"24px\">\n",
              "    <path d=\"M0 0h24v24H0V0z\" fill=\"none\"/>\n",
              "    <path d=\"M18.56 5.44l.94 2.06.94-2.06 2.06-.94-2.06-.94-.94-2.06-.94 2.06-2.06.94zm-11 1L8.5 8.5l.94-2.06 2.06-.94-2.06-.94L8.5 2.5l-.94 2.06-2.06.94zm10 10l.94 2.06.94-2.06 2.06-.94-2.06-.94-.94-2.06-.94 2.06-2.06.94z\"/><path d=\"M17.41 7.96l-1.37-1.37c-.4-.4-.92-.59-1.43-.59-.52 0-1.04.2-1.43.59L10.3 9.45l-7.72 7.72c-.78.78-.78 2.05 0 2.83L4 21.41c.39.39.9.59 1.41.59.51 0 1.02-.2 1.41-.59l7.78-7.78 2.81-2.81c.8-.78.8-2.07 0-2.86zM5.41 20L4 18.59l7.72-7.72 1.47 1.35L5.41 20z\"/>\n",
              "  </svg>\n",
              "      </button>\n",
              "      \n",
              "  <style>\n",
              "    .colab-df-container {\n",
              "      display:flex;\n",
              "      flex-wrap:wrap;\n",
              "      gap: 12px;\n",
              "    }\n",
              "\n",
              "    .colab-df-convert {\n",
              "      background-color: #E8F0FE;\n",
              "      border: none;\n",
              "      border-radius: 50%;\n",
              "      cursor: pointer;\n",
              "      display: none;\n",
              "      fill: #1967D2;\n",
              "      height: 32px;\n",
              "      padding: 0 0 0 0;\n",
              "      width: 32px;\n",
              "    }\n",
              "\n",
              "    .colab-df-convert:hover {\n",
              "      background-color: #E2EBFA;\n",
              "      box-shadow: 0px 1px 2px rgba(60, 64, 67, 0.3), 0px 1px 3px 1px rgba(60, 64, 67, 0.15);\n",
              "      fill: #174EA6;\n",
              "    }\n",
              "\n",
              "    [theme=dark] .colab-df-convert {\n",
              "      background-color: #3B4455;\n",
              "      fill: #D2E3FC;\n",
              "    }\n",
              "\n",
              "    [theme=dark] .colab-df-convert:hover {\n",
              "      background-color: #434B5C;\n",
              "      box-shadow: 0px 1px 3px 1px rgba(0, 0, 0, 0.15);\n",
              "      filter: drop-shadow(0px 1px 2px rgba(0, 0, 0, 0.3));\n",
              "      fill: #FFFFFF;\n",
              "    }\n",
              "  </style>\n",
              "\n",
              "      <script>\n",
              "        const buttonEl =\n",
              "          document.querySelector('#df-d53864c7-67a6-4f46-9645-a67c77fd78ab button.colab-df-convert');\n",
              "        buttonEl.style.display =\n",
              "          google.colab.kernel.accessAllowed ? 'block' : 'none';\n",
              "\n",
              "        async function convertToInteractive(key) {\n",
              "          const element = document.querySelector('#df-d53864c7-67a6-4f46-9645-a67c77fd78ab');\n",
              "          const dataTable =\n",
              "            await google.colab.kernel.invokeFunction('convertToInteractive',\n",
              "                                                     [key], {});\n",
              "          if (!dataTable) return;\n",
              "\n",
              "          const docLinkHtml = 'Like what you see? Visit the ' +\n",
              "            '<a target=\"_blank\" href=https://colab.research.google.com/notebooks/data_table.ipynb>data table notebook</a>'\n",
              "            + ' to learn more about interactive tables.';\n",
              "          element.innerHTML = '';\n",
              "          dataTable['output_type'] = 'display_data';\n",
              "          await google.colab.output.renderOutput(dataTable, element);\n",
              "          const docLink = document.createElement('div');\n",
              "          docLink.innerHTML = docLinkHtml;\n",
              "          element.appendChild(docLink);\n",
              "        }\n",
              "      </script>\n",
              "    </div>\n",
              "  </div>\n",
              "  "
            ]
          },
          "metadata": {},
          "execution_count": 18
        }
      ],
      "source": [
        "# Convertendo a coluna \"dt\" para dados de data\n",
        "dados['dt'] = pd.to_datetime(dados['dt'])\n",
        "\n",
        "# Extraindo o ano da coluna \"dt\" para realizarmos uma análise por ano\n",
        "dados[\"year\"] = dados[\"dt\"].dt.year\n",
        "\n",
        "## Aqui começa a análise exploratória de dados para descobrir padrões e tendências, primeiro\n",
        "## agrupando as temperaturas por ano e cidade\n",
        "dados_agrupados = dados.groupby([\"year\",\"State\"]).mean()\n",
        "\n",
        "dados_agrupados.head()"
      ]
    },
    {
      "cell_type": "code",
      "execution_count": 19,
      "metadata": {
        "id": "SFkhZMe-Cm7y"
      },
      "outputs": [],
      "source": [
        "## Vamos verificar quais ciadades podemos checar dentro desse conjunto de dados\n",
        "cidades = dados['State'].unique()"
      ]
    },
    {
      "cell_type": "markdown",
      "metadata": {
        "id": "8mRE_cFfCm70"
      },
      "source": [
        "## Análise de variação de temperatura entre as cidades"
      ]
    },
    {
      "cell_type": "code",
      "execution_count": 20,
      "metadata": {
        "id": "t952tUlYCm70"
      },
      "outputs": [],
      "source": [
        "## Queremos calcular a diferença de temperatura entre o ano mais recente e o ano mais antigo para cada \n",
        "## cidade. Para fazer isso, vamos utilizar o método .agg() do pandas para calcular a diferença entre o \n",
        "## valor mínimo e máximo da temperatura para cada cidade.\n",
        "\n",
        "dados_agrupados = dados.groupby([\"State\"]).agg({\"year\": [\"min\",\"max\"], \"AverageTemperature\": [\"min\",\"max\"]})\n",
        "\n"
      ]
    },
    {
      "cell_type": "code",
      "execution_count": 21,
      "metadata": {
        "id": "Yhd7mH5sCm71"
      },
      "outputs": [],
      "source": [
        "## Vamos calcular a diferença entre a temperatura mínima e máxima para cada cidade.\n",
        "dados_agrupados[\"dif\"] = dados_agrupados[\"AverageTemperature\"][\"max\"] - dados_agrupados[\"AverageTemperature\"][\"min\"]\n"
      ]
    },
    {
      "cell_type": "code",
      "execution_count": 22,
      "metadata": {
        "id": "IpqI8ea3Cm71"
      },
      "outputs": [],
      "source": [
        "## Vamos ordenar o dataframe pelo valor da diferença em ordem crescente\n",
        "dados_agrupados.sort_values(by=\"dif\",ascending=False,inplace=True)"
      ]
    },
    {
      "cell_type": "code",
      "execution_count": 23,
      "metadata": {
        "id": "5W0-GSHNCm72",
        "colab": {
          "base_uri": "https://localhost:8080/",
          "height": 426
        },
        "outputId": "48d6ed55-e744-4f2d-a311-e0ab7166b390"
      },
      "outputs": [
        {
          "output_type": "execute_result",
          "data": {
            "text/plain": [
              "                year       AverageTemperature             dif\n",
              "                 min   max                min     max        \n",
              "State                                                        \n",
              "Sakha           1829  2013            -45.389  17.653  63.042\n",
              "Evenk           1820  2013            -44.736  17.225  61.961\n",
              "Amur            1820  2013            -36.521  20.575  57.096\n",
              "Taymyr          1820  2013            -42.983  13.386  56.369\n",
              "Maga Buryatdan  1829  2013            -40.012  16.317  56.329\n",
              "Tuva            1820  2013            -39.897  16.301  56.198\n",
              "Irkutsk         1820  2013            -37.639  18.407  56.046\n",
              "Chita           1820  2013            -37.582  18.378  55.960\n",
              "Khabarovsk      1829  2013            -36.809  18.638  55.447\n",
              "Tomsk           1817  2013            -32.947  21.866  54.813"
            ],
            "text/html": [
              "\n",
              "  <div id=\"df-ddae3a2e-faf5-4a05-ac83-54b22b922395\">\n",
              "    <div class=\"colab-df-container\">\n",
              "      <div>\n",
              "<style scoped>\n",
              "    .dataframe tbody tr th:only-of-type {\n",
              "        vertical-align: middle;\n",
              "    }\n",
              "\n",
              "    .dataframe tbody tr th {\n",
              "        vertical-align: top;\n",
              "    }\n",
              "\n",
              "    .dataframe thead tr th {\n",
              "        text-align: left;\n",
              "    }\n",
              "\n",
              "    .dataframe thead tr:last-of-type th {\n",
              "        text-align: right;\n",
              "    }\n",
              "</style>\n",
              "<table border=\"1\" class=\"dataframe\">\n",
              "  <thead>\n",
              "    <tr>\n",
              "      <th></th>\n",
              "      <th colspan=\"2\" halign=\"left\">year</th>\n",
              "      <th colspan=\"2\" halign=\"left\">AverageTemperature</th>\n",
              "      <th>dif</th>\n",
              "    </tr>\n",
              "    <tr>\n",
              "      <th></th>\n",
              "      <th>min</th>\n",
              "      <th>max</th>\n",
              "      <th>min</th>\n",
              "      <th>max</th>\n",
              "      <th></th>\n",
              "    </tr>\n",
              "    <tr>\n",
              "      <th>State</th>\n",
              "      <th></th>\n",
              "      <th></th>\n",
              "      <th></th>\n",
              "      <th></th>\n",
              "      <th></th>\n",
              "    </tr>\n",
              "  </thead>\n",
              "  <tbody>\n",
              "    <tr>\n",
              "      <th>Sakha</th>\n",
              "      <td>1829</td>\n",
              "      <td>2013</td>\n",
              "      <td>-45.389</td>\n",
              "      <td>17.653</td>\n",
              "      <td>63.042</td>\n",
              "    </tr>\n",
              "    <tr>\n",
              "      <th>Evenk</th>\n",
              "      <td>1820</td>\n",
              "      <td>2013</td>\n",
              "      <td>-44.736</td>\n",
              "      <td>17.225</td>\n",
              "      <td>61.961</td>\n",
              "    </tr>\n",
              "    <tr>\n",
              "      <th>Amur</th>\n",
              "      <td>1820</td>\n",
              "      <td>2013</td>\n",
              "      <td>-36.521</td>\n",
              "      <td>20.575</td>\n",
              "      <td>57.096</td>\n",
              "    </tr>\n",
              "    <tr>\n",
              "      <th>Taymyr</th>\n",
              "      <td>1820</td>\n",
              "      <td>2013</td>\n",
              "      <td>-42.983</td>\n",
              "      <td>13.386</td>\n",
              "      <td>56.369</td>\n",
              "    </tr>\n",
              "    <tr>\n",
              "      <th>Maga Buryatdan</th>\n",
              "      <td>1829</td>\n",
              "      <td>2013</td>\n",
              "      <td>-40.012</td>\n",
              "      <td>16.317</td>\n",
              "      <td>56.329</td>\n",
              "    </tr>\n",
              "    <tr>\n",
              "      <th>Tuva</th>\n",
              "      <td>1820</td>\n",
              "      <td>2013</td>\n",
              "      <td>-39.897</td>\n",
              "      <td>16.301</td>\n",
              "      <td>56.198</td>\n",
              "    </tr>\n",
              "    <tr>\n",
              "      <th>Irkutsk</th>\n",
              "      <td>1820</td>\n",
              "      <td>2013</td>\n",
              "      <td>-37.639</td>\n",
              "      <td>18.407</td>\n",
              "      <td>56.046</td>\n",
              "    </tr>\n",
              "    <tr>\n",
              "      <th>Chita</th>\n",
              "      <td>1820</td>\n",
              "      <td>2013</td>\n",
              "      <td>-37.582</td>\n",
              "      <td>18.378</td>\n",
              "      <td>55.960</td>\n",
              "    </tr>\n",
              "    <tr>\n",
              "      <th>Khabarovsk</th>\n",
              "      <td>1829</td>\n",
              "      <td>2013</td>\n",
              "      <td>-36.809</td>\n",
              "      <td>18.638</td>\n",
              "      <td>55.447</td>\n",
              "    </tr>\n",
              "    <tr>\n",
              "      <th>Tomsk</th>\n",
              "      <td>1817</td>\n",
              "      <td>2013</td>\n",
              "      <td>-32.947</td>\n",
              "      <td>21.866</td>\n",
              "      <td>54.813</td>\n",
              "    </tr>\n",
              "  </tbody>\n",
              "</table>\n",
              "</div>\n",
              "      <button class=\"colab-df-convert\" onclick=\"convertToInteractive('df-ddae3a2e-faf5-4a05-ac83-54b22b922395')\"\n",
              "              title=\"Convert this dataframe to an interactive table.\"\n",
              "              style=\"display:none;\">\n",
              "        \n",
              "  <svg xmlns=\"http://www.w3.org/2000/svg\" height=\"24px\"viewBox=\"0 0 24 24\"\n",
              "       width=\"24px\">\n",
              "    <path d=\"M0 0h24v24H0V0z\" fill=\"none\"/>\n",
              "    <path d=\"M18.56 5.44l.94 2.06.94-2.06 2.06-.94-2.06-.94-.94-2.06-.94 2.06-2.06.94zm-11 1L8.5 8.5l.94-2.06 2.06-.94-2.06-.94L8.5 2.5l-.94 2.06-2.06.94zm10 10l.94 2.06.94-2.06 2.06-.94-2.06-.94-.94-2.06-.94 2.06-2.06.94z\"/><path d=\"M17.41 7.96l-1.37-1.37c-.4-.4-.92-.59-1.43-.59-.52 0-1.04.2-1.43.59L10.3 9.45l-7.72 7.72c-.78.78-.78 2.05 0 2.83L4 21.41c.39.39.9.59 1.41.59.51 0 1.02-.2 1.41-.59l7.78-7.78 2.81-2.81c.8-.78.8-2.07 0-2.86zM5.41 20L4 18.59l7.72-7.72 1.47 1.35L5.41 20z\"/>\n",
              "  </svg>\n",
              "      </button>\n",
              "      \n",
              "  <style>\n",
              "    .colab-df-container {\n",
              "      display:flex;\n",
              "      flex-wrap:wrap;\n",
              "      gap: 12px;\n",
              "    }\n",
              "\n",
              "    .colab-df-convert {\n",
              "      background-color: #E8F0FE;\n",
              "      border: none;\n",
              "      border-radius: 50%;\n",
              "      cursor: pointer;\n",
              "      display: none;\n",
              "      fill: #1967D2;\n",
              "      height: 32px;\n",
              "      padding: 0 0 0 0;\n",
              "      width: 32px;\n",
              "    }\n",
              "\n",
              "    .colab-df-convert:hover {\n",
              "      background-color: #E2EBFA;\n",
              "      box-shadow: 0px 1px 2px rgba(60, 64, 67, 0.3), 0px 1px 3px 1px rgba(60, 64, 67, 0.15);\n",
              "      fill: #174EA6;\n",
              "    }\n",
              "\n",
              "    [theme=dark] .colab-df-convert {\n",
              "      background-color: #3B4455;\n",
              "      fill: #D2E3FC;\n",
              "    }\n",
              "\n",
              "    [theme=dark] .colab-df-convert:hover {\n",
              "      background-color: #434B5C;\n",
              "      box-shadow: 0px 1px 3px 1px rgba(0, 0, 0, 0.15);\n",
              "      filter: drop-shadow(0px 1px 2px rgba(0, 0, 0, 0.3));\n",
              "      fill: #FFFFFF;\n",
              "    }\n",
              "  </style>\n",
              "\n",
              "      <script>\n",
              "        const buttonEl =\n",
              "          document.querySelector('#df-ddae3a2e-faf5-4a05-ac83-54b22b922395 button.colab-df-convert');\n",
              "        buttonEl.style.display =\n",
              "          google.colab.kernel.accessAllowed ? 'block' : 'none';\n",
              "\n",
              "        async function convertToInteractive(key) {\n",
              "          const element = document.querySelector('#df-ddae3a2e-faf5-4a05-ac83-54b22b922395');\n",
              "          const dataTable =\n",
              "            await google.colab.kernel.invokeFunction('convertToInteractive',\n",
              "                                                     [key], {});\n",
              "          if (!dataTable) return;\n",
              "\n",
              "          const docLinkHtml = 'Like what you see? Visit the ' +\n",
              "            '<a target=\"_blank\" href=https://colab.research.google.com/notebooks/data_table.ipynb>data table notebook</a>'\n",
              "            + ' to learn more about interactive tables.';\n",
              "          element.innerHTML = '';\n",
              "          dataTable['output_type'] = 'display_data';\n",
              "          await google.colab.output.renderOutput(dataTable, element);\n",
              "          const docLink = document.createElement('div');\n",
              "          docLink.innerHTML = docLinkHtml;\n",
              "          element.appendChild(docLink);\n",
              "        }\n",
              "      </script>\n",
              "    </div>\n",
              "  </div>\n",
              "  "
            ]
          },
          "metadata": {},
          "execution_count": 23
        }
      ],
      "source": [
        "## Selecionamos as cidades com maiores diferenças de temperaturas\n",
        "top_states = dados_agrupados.head(10)\n",
        "top_states"
      ]
    },
    {
      "cell_type": "code",
      "source": [
        "# Armazenando o tempo de término\n",
        "end_time = time.time()\n",
        "\n",
        "# Calculando o tempo total de execução\n",
        "execution_time = end_time - start_time\n",
        "\n",
        "# Exibindo o tempo total de execução\n",
        "print(\"Tempo de execução: {:.2f} segundos\".format(execution_time))"
      ],
      "metadata": {
        "id": "Nvg949Dvs4Gl",
        "colab": {
          "base_uri": "https://localhost:8080/"
        },
        "outputId": "65dbe28d-16d9-4842-ae00-d591b331b388"
      },
      "execution_count": 24,
      "outputs": [
        {
          "output_type": "stream",
          "name": "stdout",
          "text": [
            "Tempo de execução: 1.13 segundos\n"
          ]
        }
      ]
    },
    {
      "cell_type": "code",
      "source": [],
      "metadata": {
        "id": "LyRKs0wJLRcP"
      },
      "execution_count": 24,
      "outputs": []
    }
  ]
}